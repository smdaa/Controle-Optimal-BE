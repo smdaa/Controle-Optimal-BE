{
 "cells": [
  {
   "cell_type": "markdown",
   "metadata": {},
   "source": [
    "# Introduction to indirect multiple shooting: the Bang-Singular-Bang case on a turnpike problem "
   ]
  },
  {
   "cell_type": "markdown",
   "metadata": {},
   "source": [
    "* Author: Olivier Cots\n",
    "* Date: March 2021\n",
    "\n",
    "------"
   ]
  },
  {
   "cell_type": "markdown",
   "metadata": {},
   "source": [
    "## I) Description of the optimal control problem"
   ]
  },
  {
   "cell_type": "markdown",
   "metadata": {},
   "source": [
    "We consider the following optimal control problem:\n",
    "\n",
    "$$ \n",
    "    \\left\\{ \n",
    "    \\begin{array}{l}\n",
    "        \\displaystyle J(u)  := \\displaystyle \\int_0^{t_f} x^2(t) \\, \\mathrm{d}t \\longrightarrow \\min \\\\[1.0em]\n",
    "        \\dot{x}(t) = f(x(t), u(t)) := \\displaystyle u(t), \\quad  |u(t)| \\le 1, \\quad t \\in [0, t_f] \\text{ a.e.},    \\\\[1.0em]\n",
    "        x(0) = 1, \\quad x(t_f) = 1/2.\n",
    "    \\end{array}\n",
    "    \\right. \n",
    "$$\n",
    "\n",
    "To this optimal control problem is associated the stationnary optimization problem\n",
    "\n",
    "$$\n",
    "    \\min_{(x, u)} \\{~ x^2 ~ | ~  (x, u) \\in \\mathrm{R} \\times [-1, 1],~ f(x,u) = u = 0\\}.\n",
    "$$\n",
    "\n",
    "The static solution is thus $(x^*, u^*) = (0, 0)$. This solution may be seen as the static pair $(x, u)$ which minimizes the cost $J(u)$ under\n",
    "the constraint $u \\in [-1, 1]$.\n",
    "It is well known that this problem is what we call a *turnpike* optimal control problem.\n",
    "Hence, if the final time $t_f$ is long enough the solution is of the following form: \n",
    "starting from $x(0)=1$, reach as fast as possible the static solution, stay at the static solution as long as possible before reaching\n",
    "the target $x(t_f)=1/2$. In this case, the optimal control would be\n",
    "\n",
    "$$\n",
    "    u(t) = \\left\\{ \n",
    "    \\begin{array}{lll}\n",
    "        -1            & \\text{if} & t \\in [0, t_1],     \\\\[0.5em]\n",
    "        \\phantom{-}0  & \\text{if} & t \\in (t_1, t_2],   \\\\[0.5em]\n",
    "        +1            & \\text{if} & t \\in (t_2, t_f],\n",
    "    \\end{array}\n",
    "    \\right. \n",
    "$$\n",
    "\n",
    "with $0 < t_1 < t_2 < t_f$. We say that the control is *Bang-Singular-Bang*. A Bang arc corresponds to $u \\in \\{-1, 1\\}$ while a singular control corresponds to $u \\in (-1, 1)$. Since the optimal control law is discontinuous, then to solve this optimal control problem by indirect methods and find the *switching times* $t_1$ and $t_2$, we need to implement what we call a *multiple shooting method*. In the next section we introduce a regularization technique to force the control to be in the set $(-1,1)$ and to be smooth. In this context, we will be able to implement a simple shooting method and determine the structure of the optimal control law. Thanks to the simple shooting method, we will have the structure of the optimal control law together with an approximation of the switching times that we will use as initial guess for the multiple shooting method that we present in the last section.\n",
    "\n",
    "<div class=\"alert alert-warning\">\n",
    "\n",
    "**Main goal**\n",
    "\n",
    "Find the switching times $t_1$ and $t_2$ by multiple shooting.\n",
    "    \n",
    "</div>\n",
    "\n",
    "Steps:\n",
    "\n",
    "1. Regularize the problem and solve the regularized problem by simple shooting.\n",
    "2. Determine the structure of the non-regularized optimal control problem, that is the structure Bang-Singular-Bang, and find a good approximation of the switching times and of the initial co-vector.\n",
    "3. Solve the non-regularized optimal control problem by multiple shooting.\n",
    "\n",
    "**_Remark 1._** See this [page](https://ct.gitlabpages.inria.fr/gallery/shooting_tutorials/simple_shooting_general.html) for a general presentation of the simple shooting method.\n",
    "\n",
    "**_Remark 2._** In this particular example, the singular control does not depend on the costate $p$ since it is constant. This happens in low dimension. This could be taken into consideration to simplify the definition of the multiple shooting method. However, to stay general, we will not consider this particular property in this notebook.  \n"
   ]
  },
  {
   "cell_type": "markdown",
   "metadata": {},
   "source": [
    "## II) Regularization and simple shooting"
   ]
  },
  {
   "cell_type": "markdown",
   "metadata": {},
   "source": [
    "We make the following regularization:\n",
    "\n",
    "$$ \n",
    "    \\left\\{ \n",
    "    \\begin{array}{l}\n",
    "        \\displaystyle J(u)  := \\displaystyle \\int_0^{t_f} (x^2(t) - \\varepsilon\\ln(1-u^2(t))) \\, \\mathrm{d}t \\longrightarrow \\min \\\\[1.0em]\n",
    "        \\dot{x}(t) = f(x(t), u(t)) := \\displaystyle u(t), \\quad  |u(t)| \\le 1, \\quad t \\in [0, t_f] \\text{ a.e.},    \\\\[1.0em]\n",
    "        x(0) = 1, \\quad x(t_f) = 1/2.\n",
    "    \\end{array}\n",
    "    \\right. \n",
    "$$\n",
    "\n",
    "Our goal is to determine the structure of the optimal control problem when $(\\varepsilon, t_f) = (0, 2)$. The problem is simpler to solver when $\\varepsilon$ is bigger and $t_f$ is smaller. It is also smooth whenever $\\varepsilon>0$. Hence, we will start by solving the problem for $(\\varepsilon, t_f) = (1, 1)$. In a second step, we will decrease the *penalization term* $\\varepsilon$ and in a final step, we will increase the final time $t_f$ to the final value $2$.\n"
   ]
  },
  {
   "cell_type": "markdown",
   "metadata": {},
   "source": [
    "### Preliminaries"
   ]
  },
  {
   "cell_type": "code",
   "execution_count": 1,
   "metadata": {},
   "outputs": [],
   "source": [
    "# import packages\n",
    "import nutopy as nt\n",
    "import nutopy.tools as tools\n",
    "import nutopy.ocp as ocp\n",
    "import numpy as np\n",
    "import matplotlib.pyplot as plt\n",
    "#plt.rcParams['figure.figsize'] = [10, 5]\n",
    "plt.rcParams['figure.dpi'] = 150"
   ]
  },
  {
   "cell_type": "code",
   "execution_count": 2,
   "metadata": {},
   "outputs": [],
   "source": [
    "# Finite differences function for scalar functionnal\n",
    "# Return f'(x).dx\n",
    "def finite_diff(fun, x, dx, *args, **kwargs):\n",
    "    v_eps = np.finfo(float).eps\n",
    "    t = np.sqrt(v_eps) * np.sqrt(np.maximum(1.0, np.abs(x))) / np.sqrt(np.maximum(1.0, np.abs(dx)))\n",
    "    j = (fun(x + t*dx, *args, **kwargs) - fun(x, *args, **kwargs)) / t\n",
    "    return j"
   ]
  },
  {
   "cell_type": "code",
   "execution_count": 3,
   "metadata": {},
   "outputs": [],
   "source": [
    "# Parameters\n",
    "\n",
    "t0        = 0.0\n",
    "x0        = np.array([1.0])\n",
    "xf_target = np.array([0.5])\n",
    "\n",
    "e_init    = 1.0\n",
    "e_final   = 0.002 #\n",
    "\n",
    "tf_init   = 1.0 # With this value the problem is simpler to solver since the trajectory stay \n",
    "                # less time around the static solution\n",
    "tf_final  = 2.0"
   ]
  },
  {
   "cell_type": "markdown",
   "metadata": {},
   "source": [
    "### Maximized Hamiltonian and its derivatives"
   ]
  },
  {
   "cell_type": "markdown",
   "metadata": {},
   "source": [
    "The pseudo-Hamiltonian is (in the normal case)\n",
    "\n",
    "$$\n",
    "    H(x,p,u,\\varepsilon) = pu - x^2 + \\varepsilon ln(1-u^2).\n",
    "$$\n",
    "\n",
    "Note that we put the parameter $\\varepsilon$ into the arguments of the pseudo-Hamiltonian since we will vary it."
   ]
  },
  {
   "cell_type": "markdown",
   "metadata": {},
   "source": [
    "<div class=\"alert alert-info\">\n",
    "\n",
    "**_Question 1:_**\n",
    "    \n",
    "Give the maximizing control $u[p, \\varepsilon]$, that is the control in feedback form solution of the maximization condition.\n",
    "    \n",
    "</div>"
   ]
  },
  {
   "cell_type": "markdown",
   "metadata": {},
   "source": [
    "**Answer 1:**\n",
    "$$\n",
    " \\nabla_{u} H(x, p, u, \\epsilon) = 0\n",
    "$$\n",
    "donc\n",
    "$$\n",
    "p - 2 \\epsilon \\frac{u}{1 - u^2} = 0\n",
    "$$\n",
    "donc \n",
    "$$\n",
    "p u^2 + 2 \\epsilon u - p = 0\n",
    "$$\n",
    "donc\n",
    "$$\n",
    "u_1 = \\frac{\\sqrt{\\epsilon^2 + p^2} - \\epsilon}{p}\n",
    "$$\n",
    "\n",
    "$$\n",
    "u_2 = \\frac{-\\sqrt{\\epsilon^2 + p^2} - \\epsilon}{p}\n",
    "$$\n",
    "or $|u| \\leq 1$ donc \n",
    "$$\n",
    "u[p, \\varepsilon] = \\frac{\\sqrt{\\epsilon^2 + p^2} - \\epsilon}{p}\n",
    "$$"
   ]
  },
  {
   "cell_type": "markdown",
   "metadata": {},
   "source": [
    "<div class=\"alert alert-info\">\n",
    "\n",
    "**_Question 2:_**\n",
    "    \n",
    "Complete the code of the maximizing control $u[p, \\varepsilon]$ and its derivative with respect to $p$, that is $\\frac{\\partial u}{\\partial p}[p, \\varepsilon]$.\n",
    "    \n",
    "</div>"
   ]
  },
  {
   "cell_type": "markdown",
   "metadata": {},
   "source": [
    "on a\n",
    "$$\n",
    "\\frac{\\partial u}{\\partial p}[p, \\varepsilon] = \\frac{2}{\\sqrt{p^2 + \\epsilon^2}} - \\frac{\\sqrt{p^2 + \\epsilon^2} - \\epsilon}{p^2}\n",
    "$$"
   ]
  },
  {
   "cell_type": "code",
   "execution_count": 4,
   "metadata": {},
   "outputs": [],
   "source": [
    "# ----------------------------\n",
    "# Answer 2 to complete here\n",
    "# ----------------------------\n",
    "#\n",
    "# Control in feedback form u[p,e] and its partial derivative wrt. p.\n",
    "#\n",
    "@tools.vectorize(vvars=(1,))\n",
    "def ufun(p, e):\n",
    "    u = (np.sqrt(e**2 + p**2) - e) / p\n",
    "    return u\n",
    "\n",
    "def dufun(p, e):\n",
    "    du = (2 / np.sqrt(p**2 + e**2)) - ((np.sqrt(p**2 + e**2) - e) / (p**2))\n",
    "    return du"
   ]
  },
  {
   "cell_type": "markdown",
   "metadata": {},
   "source": [
    "We give next the maximized Hamiltonian with its derivatives. This permits us to define the flow of the associated Hamiltonian vector field."
   ]
  },
  {
   "cell_type": "code",
   "execution_count": 5,
   "metadata": {},
   "outputs": [],
   "source": [
    "# Definition of the maximized Hamiltonian and its derivatives\n",
    "# The second derivative d2hfun is computed by finite differences for a part\n",
    "def dhfun(t, x, dx, p, dp, e):\n",
    "    # dh = dh_x dx + dh_p dp\n",
    "    u  = ufun(p, e)\n",
    "    du = dufun(p, e)\n",
    "    hd = (u+p*du+2.0*e*u*du/(u**2-1.0))*dp - 2.0*x*dx\n",
    "    return hd\n",
    "\n",
    "def d2hfun(t, x, dx, d2x, p, dp, d2p, e):\n",
    "    # d2h = dh_xx dx d2x + dh_xp dp d2x + dh_px dx d2p + dh_pp dp d2p\n",
    "    d2h_xx = -2.0*dx*d2x # dh_xx dx d2x\n",
    "    dh_p   = lambda p: dhfun(t, x, 0.0, p, dp, e) # dh_px = 0 so we can put dx = 0\n",
    "    d2h_pp = finite_diff(dh_p, p, d2p) # dh_pp dp d2p\n",
    "    hdd    = d2h_xx + d2h_pp\n",
    "    return hdd\n",
    "\n",
    "@tools.tensorize(dhfun, d2hfun, tvars=(2, 3))\n",
    "def hfun(t, x, p, e):\n",
    "    u = ufun(p, e)\n",
    "    h = p*u - x**2 + e*(np.log(1.0-u**2))\n",
    "    return h\n",
    "\n",
    "h = ocp.Hamiltonian(hfun)   # The Hamiltonian object\n",
    "\n",
    "f = ocp.Flow(h)             # The flow associated to the Hamiltonian object is \n",
    "                            # the exponential mapping with its derivative\n",
    "                            # that can be used to define the Jacobian of the \n",
    "                            # shooting function"
   ]
  },
  {
   "cell_type": "markdown",
   "metadata": {},
   "source": [
    "### Shooting function and its derivative"
   ]
  },
  {
   "cell_type": "markdown",
   "metadata": {},
   "source": [
    "The shooting function is\n",
    "\n",
    "$$\n",
    "    S(p_0, \\varepsilon, t_f) = \\pi_x(z(t_f, 1, p_0, \\varepsilon)) - 1/2,\n",
    "$$\n",
    "\n",
    "where $z(t_f, x_0, p_0, \\varepsilon)$ is the solution of the associated Hamiltonian system \n",
    "with the initial condition $z(0) = (x_0, p_0)$. Note that the Hamiltonian system depends on $\\varepsilon$. We put $\\varepsilon$ and $t_f$ into \n",
    "the arguments of the shooting function since we will vary them.\n",
    "\n",
    "<div class=\"alert alert-warning\">\n",
    "\n",
    "**Procedure**\n",
    "\n",
    "First solve $S=0$ for $(\\varepsilon, t_f) = (1,1)$ then decrease $\\varepsilon$ to $0.01$, and finish by increasing $t_f$ to 2.\n",
    "    \n",
    "</div>"
   ]
  },
  {
   "cell_type": "markdown",
   "metadata": {},
   "source": [
    "<div class=\"alert alert-info\">\n",
    "\n",
    "**_Question 3:_**\n",
    "    \n",
    "Complete the code of the shooting function.\n",
    "    \n",
    "</div>"
   ]
  },
  {
   "cell_type": "code",
   "execution_count": 6,
   "metadata": {},
   "outputs": [],
   "source": [
    "# ----------------------------\n",
    "# Answer 3 to complete here\n",
    "# ----------------------------\n",
    "#\n",
    "# Definition of the shooting function and its partial derivative wrt. p0 against the vector dp0\n",
    "#\n",
    "def shoot(p0, e, tf):\n",
    "    xf, pf = f(t0, x0, p0, tf, e)\n",
    "    s = xf - xf_target\n",
    "    return s"
   ]
  },
  {
   "cell_type": "code",
   "execution_count": 7,
   "metadata": {},
   "outputs": [],
   "source": [
    "def dshoot(p0, dp0, e, tf):\n",
    "    (xf, dxf), _ = f(t0, x0, (p0, dp0), tf, e)\n",
    "    ds = dxf\n",
    "    return ds\n",
    "\n",
    "shoot = nt.tools.tensorize(dshoot, tvars=(1,))(shoot)"
   ]
  },
  {
   "cell_type": "code",
   "execution_count": 8,
   "metadata": {},
   "outputs": [],
   "source": [
    "# Function to plot the solution\n",
    "def plotSolution(p0, e, tf):\n",
    "\n",
    "    N      = 200\n",
    "    tspan  = list(np.linspace(t0, tf, N+1))\n",
    "    xf, pf = f(t0, x0, p0, tspan, e)\n",
    "    u      = ufun(pf, e)\n",
    "\n",
    "    fig = plt.figure()\n",
    "    ax  = fig.add_subplot(511); ax.plot(tspan, xf); ax.set_xlabel('t'); ax.set_ylabel('$x$'); ax.axhline(0, color='k')\n",
    "    ax  = fig.add_subplot(513); ax.plot(tspan, pf); ax.set_xlabel('t'); ax.set_ylabel('$p$'); ax.axhline(0, color='k')\n",
    "    ax  = fig.add_subplot(515); ax.plot(tspan,  u); ax.set_xlabel('t'); ax.set_ylabel('$u$'); ax.axhline(0, color='k')"
   ]
  },
  {
   "cell_type": "markdown",
   "metadata": {},
   "source": [
    "### Resolution of the regularized problem"
   ]
  },
  {
   "cell_type": "code",
   "execution_count": 9,
   "metadata": {
    "scrolled": false
   },
   "outputs": [
    {
     "name": "stdout",
     "output_type": "stream",
     "text": [
      "\n",
      "     Calls  |f(x)|                 |x|\n",
      " \n",
      "         1  9.225527956247912e-01  1.000000000000000e-01\n",
      "         2  1.328510078588877e-01  2.933843267532438e+00\n",
      "         3  7.295873948535520e-02  2.551952341569125e+00\n",
      "         4  3.048709526028692e-02  2.086745707460550e+00\n",
      "         5  4.420525623099247e-03  2.223849332798960e+00\n",
      "         6  2.283581455932993e-04  2.206487218925520e+00\n",
      "         7  1.831091421822251e-06  2.205541459924003e+00\n",
      "         8  7.509125543592177e-10  2.205548983174078e+00\n",
      "         9  2.720046410331634e-15  2.205548980090132e+00\n",
      "\n",
      " Results of the nle solver method:\n",
      "\n",
      " xsol    =  [-2.20554898]\n",
      " f(xsol) =  [-2.72004641e-15]\n",
      " nfev    =  9\n",
      " njev    =  1\n",
      " status  =  1\n",
      " success =  True \n",
      "\n",
      " Successfully completed: relative error between two consecutive iterates is at most TolX.\n",
      "\n"
     ]
    }
   ],
   "source": [
    "# Shooting for (tf, e) = (tf_init, e_init)\n",
    "p0_guess = np.array([0.1])\n",
    "nlefun   = lambda p0: shoot(p0, e_init, tf_init)\n",
    "sol_nle  = nt.nle.solve(nlefun, p0_guess, df=nlefun)"
   ]
  },
  {
   "cell_type": "code",
   "execution_count": 10,
   "metadata": {},
   "outputs": [
    {
     "data": {
      "image/png": "[encoded data removed]",
      "text/plain": [
       "<Figure size 900x600 with 3 Axes>"
      ]
     },
     "metadata": {
      "needs_background": "light"
     },
     "output_type": "display_data"
    }
   ],
   "source": [
    "# Plot solution for (tf, e) = (tf_init, e_init)\n",
    "plotSolution(sol_nle.x, e_init, tf_init)"
   ]
  },
  {
   "cell_type": "code",
   "execution_count": 11,
   "metadata": {},
   "outputs": [],
   "source": [
    "# Definition of the homotopic function and its first order derivative\n",
    "# This function is used to solve S=0 for different values of e=epsilon and tf.\n",
    "def dhomfun(p0, dp0, e, de, tf, dtf):\n",
    "    #\n",
    "    (xf, dxf), (pf, dpf) = f(t0, x0, (p0, dp0), tf, e)    \n",
    "    #\n",
    "    s     = xf - xf_target\n",
    "    #\n",
    "    ds_p0 = dxf\n",
    "    ds_tf = ufun(pf, e) * dtf # dS_tf dtf = u dtf\n",
    "    #\n",
    "    fun = lambda e: float(f(t0, x0, p0, tf, e)[0])\n",
    "    ds_e = finite_diff(fun, e, de) # dS_e de\n",
    "    #\n",
    "    ds    = ds_p0 + ds_e + ds_tf\n",
    "    return s, ds\n",
    "\n",
    "@tools.tensorize(dhomfun, tvars=(1, 2, 3), full=True)\n",
    "def homfun(p0, e, tf):\n",
    "    xf, pf = f(t0, x0, p0, tf, e)  # We use the flow to get z(tf, x0, p0, e)\n",
    "    s = xf - xf_target             # x(tf, x0, p0) - xf_target\n",
    "    return s"
   ]
  },
  {
   "cell_type": "code",
   "execution_count": 12,
   "metadata": {},
   "outputs": [
    {
     "name": "stdout",
     "output_type": "stream",
     "text": [
      "\n",
      "     Calls  |f(x,pars)|     |x|                Homotopic param    Arclength s     det A(s)        Dot product                \n",
      " \n",
      "         1  4.44089210e-16  2.20554898009e+00  1.00000000000e+00  0.00000000e+00 -3.99453522e-01  0.00000000e+00\n",
      "         2  1.66533454e-16  2.19703976146e+00  9.93456169370e-01  1.07344549e-02 -4.02221726e-01  9.99999991e-01\n",
      "         3  1.66533454e-16  2.18383044226e+00  9.83294248294e-01  2.74003108e-02 -4.06596256e-01  9.99999978e-01\n",
      "         4  2.22044605e-16  2.16059423691e+00  9.65407769537e-01  5.67234650e-02 -4.14528889e-01  9.99999927e-01\n",
      "         5  2.77555756e-16  2.11360816450e+00  9.29194613801e-01  1.16045332e-01 -4.31562403e-01  9.99999659e-01\n",
      "         6  1.11022302e-16  2.04703149096e+00  8.77769927280e-01  2.00169958e-01 -4.58265795e-01  9.99999139e-01\n",
      "         7  5.55111512e-16  1.92922310340e+00  7.86391713746e-01  3.49263248e-01 -5.14697419e-01  9.99996003e-01\n",
      "         8  0.00000000e+00  1.80192922849e+00  6.86963230702e-01  5.10786587e-01 -5.93857047e-01  9.99991882e-01\n",
      "         9  3.88578059e-16  1.67635063348e+00  5.87926303912e-01  6.70718942e-01 -7.00245886e-01  9.99985444e-01\n",
      "        10  0.00000000e+00  1.56192687685e+00  4.96566761961e-01  8.17141075e-01 -8.36744299e-01  9.99977857e-01\n",
      "        11  2.77555756e-16  1.46065138231e+00  4.14508117350e-01  9.47488420e-01 -1.01007879e+00  9.99970558e-01\n",
      "        12  3.27515792e-15  1.36942224190e+00  3.39364712024e-01  1.06568050e+00 -1.23761893e+00  9.99965609e-01\n",
      "        13  5.55111512e-16  1.29414949461e+00  2.76380148146e-01  1.16382876e+00 -1.50998360e+00  9.99976477e-01\n",
      "        14  4.44089210e-16  1.24083895680e+00  2.31297866668e-01  1.23364588e+00 -1.77490376e+00  9.99994368e-01\n",
      "        15  5.55111512e-16  1.19738337250e+00  1.94411775819e-01  1.29064563e+00 -2.05439027e+00  9.99999985e-01\n",
      "        16  2.66453526e-15  1.16019659862e+00  1.62940668081e-01  1.33936204e+00 -2.35488133e+00  9.99994766e-01\n",
      "        17  3.66373598e-15  1.12849117375e+00  1.36372960220e-01  1.38072728e+00 -2.67018066e+00  9.99978417e-01\n",
      "        18  2.33146835e-15  1.09911812835e+00  1.12179357407e-01  1.41878144e+00 -3.02658053e+00  9.99945389e-01\n",
      "        19  7.77156117e-16  1.07505326882e+00  9.28217531879e-02  1.44966586e+00 -3.37977911e+00  9.99920369e-01\n",
      "        20  1.33226763e-15  1.05364799270e+00  7.60860751045e-02  1.47683722e+00 -3.75590848e+00  9.99886865e-01\n",
      "        21  2.45359288e-14  1.03314662197e+00  6.06026125080e-02  1.50252890e+00 -4.19000124e+00  9.99828890e-01\n",
      "        22  1.99840144e-15  1.01722697370e+00  4.90281771630e-02  1.52221171e+00 -4.59458251e+00  9.99843706e-01\n",
      "        23  4.77395901e-15  1.00117290283e+00  3.78269773846e-02  1.54178757e+00 -5.08486931e+00  9.99771503e-01\n",
      "        24  1.11577414e-14  9.88937362102e-01  2.96557130373e-02  1.55650099e+00 -5.53447222e+00  9.99815853e-01\n",
      "        25  2.77555756e-15  9.78277309467e-01  2.28293130903e-02  1.56915964e+00 -5.99999989e+00  9.99814945e-01\n",
      "        26  1.94289029e-14  9.69631163153e-01  1.75158699242e-02  1.57930810e+00 -6.44617714e+00  9.99842643e-01\n",
      "        27  4.16333634e-15  9.62672545580e-01  1.34000355656e-02  1.58739289e+00 -6.86554184e+00  9.99871573e-01\n",
      "        28  2.89768209e-14  9.55644676868e-01  9.40364957205e-03  1.59547768e+00 -7.36361328e+00  9.99833706e-01\n",
      "        29  7.86037901e-14  9.49452989997e-01  6.03118154694e-03  1.60252835e+00 -7.89007603e+00  9.99830607e-01\n",
      "        30  4.57411886e-14  9.46746109272e-01  4.60515777443e-03  1.60558790e+00 -8.15628582e+00  9.99959446e-01\n",
      "        31  1.14908083e-14  9.44025924275e-01  3.20468359203e-03  1.60864744e+00 -8.45398687e+00  9.99951321e-01\n",
      "        32  4.99600361e-15  9.41628939496e-01  2.00000000000e-03  1.61133013e+00 -8.74973328e+00  9.99953589e-01\n",
      "\n",
      " Results of the path solver method:\n",
      "\n",
      " xf            =  [-0.94162894]\n",
      " parsf         =  0.002\n",
      " |f(xf,parsf)| =  4.9960036108132044e-15\n",
      " steps         =  32\n",
      " status        =  1\n",
      " success       =  True \n",
      "\n",
      " Homotopy successfully completed.\n",
      "\n"
     ]
    }
   ],
   "source": [
    "# Making the penalization smaller: homotopy on e\n",
    "p0         = sol_nle.x\n",
    "sol_path_e = nt.path.solve(homfun, p0, e_init, e_final, args=tf_init, df=homfun)"
   ]
  },
  {
   "cell_type": "code",
   "execution_count": 13,
   "metadata": {},
   "outputs": [
    {
     "data": {
      "image/png": "[encoded data removed]",
      "text/plain": [
       "<Figure size 900x600 with 3 Axes>"
      ]
     },
     "metadata": {
      "needs_background": "light"
     },
     "output_type": "display_data"
    }
   ],
   "source": [
    "# Plot solution for (tf, e) = (tf_init, e_final)\n",
    "plotSolution(sol_path_e.xf, e_final, tf_init)"
   ]
  },
  {
   "cell_type": "code",
   "execution_count": 14,
   "metadata": {},
   "outputs": [
    {
     "name": "stdout",
     "output_type": "stream",
     "text": [
      "\n",
      "     Calls  |f(x,pars)|     |x|                Homotopic param    Arclength s     det A(s)        Dot product                \n",
      " \n",
      "         1  9.43689571e-15  9.41628939496e-01  1.00000000000e+00  0.00000000e+00  4.01455512e+00  0.00000000e+00\n",
      "         2  2.53130850e-14  9.44075168781e-01  1.00970881514e+00  1.00122571e-02  4.08611402e+00  9.99990246e-01\n",
      "         3  4.16333634e-14  9.49430358432e-01  1.03162819520e+00  3.25764216e-02  4.25803269e+00  9.99950033e-01\n",
      "         4  5.32907052e-15  9.58412814636e-01  1.07075346636e+00  7.27200944e-02  4.60588751e+00  9.99839533e-01\n",
      "         5  4.04121181e-14  9.68386573648e-01  1.11854697738e+00  1.21544181e-01  5.12000171e+00  9.99758771e-01\n",
      "         6  7.30526750e-14  9.78117250857e-01  1.17123591112e+00  1.75125431e-01  5.84153926e+00  9.99706304e-01\n",
      "         7  1.44328993e-15  9.86553588115e-01  1.22405137184e+00  2.28611731e-01  6.80111084e+00  9.99707295e-01\n",
      "         8  1.37667655e-14  9.93479494871e-01  1.27515652212e+00  2.80185207e-01  8.07353952e+00  9.99731916e-01\n",
      "         9  6.46149800e-14  9.98897794412e-01  1.32313645219e+00  3.28471022e-01  9.75690339e+00  9.99772964e-01\n",
      "        10  4.64073224e-14  1.00301479911e+00  1.36766386045e+00  3.73189039e-01  1.20130610e+01  9.99816382e-01\n",
      "        11  1.11965992e-13  1.00605910721e+00  1.40862707518e+00  4.14265707e-01  1.50799348e+01  9.99858296e-01\n",
      "        12  2.27928787e-13  1.00826199335e+00  1.44623659551e+00  4.51940016e-01  1.93297223e+01  9.99895075e-01\n",
      "        13  1.53210777e-14  1.00982334092e+00  1.48078779071e+00  4.86526686e-01  2.53383167e+01  9.99925789e-01\n",
      "        14  3.30846461e-14  1.01090966944e+00  1.51267026691e+00  5.18427797e-01  3.40207141e+01  9.99950011e-01\n",
      "        15  3.66373598e-14  1.01165283994e+00  1.54231728910e+00  5.48084211e-01  4.68558939e+01  9.99968066e-01\n",
      "        16  5.27244914e-13  1.01215340492e+00  1.57017525268e+00  5.75946716e-01  6.62792441e+01  9.99980736e-01\n",
      "        17  3.72757381e-13  1.01248593839e+00  1.59670764883e+00  6.02481220e-01  9.64155176e+01  9.99989049e-01\n",
      "        18  2.18092211e-12  1.01270399110e+00  1.62237675236e+00  6.28151262e-01  1.44449260e+02  9.99994143e-01\n",
      "        19  3.37507799e-14  1.01284514643e+00  1.64765040259e+00  6.53425313e-01  2.23355511e+02  9.99997055e-01\n",
      "        20  5.02797803e-12  1.01293519472e+00  1.67299135039e+00  6.78766424e-01  3.57452083e+02  9.99998611e-01\n",
      "        21  9.08106923e-13  1.01299163860e+00  1.69887576626e+00  7.04650902e-01  5.94458778e+02  9.99999387e-01\n",
      "        22  9.91040583e-12  1.01302623036e+00  1.72580113569e+00  7.31576294e-01  1.03291111e+03  9.99999749e-01\n",
      "        23  2.39275266e-12  1.01304681988e+00  1.75431059286e+00  7.60085759e-01  1.88893422e+03  9.99999905e-01\n",
      "        24  3.76588205e-11  1.01305861701e+00  1.78501892134e+00  7.90794090e-01  3.67114047e+03  9.99999967e-01\n",
      "        25  4.93329544e-10  1.01306505026e+00  1.81865578880e+00  8.24430958e-01  7.68170801e+03  9.99999990e-01\n",
      "        26  1.94226379e-09  1.01306834031e+00  1.85612331903e+00  8.61898489e-01  1.76105743e+04  9.99999997e-01\n",
      "        27  1.30456205e-08  1.01306988807e+00  1.89858903271e+00  9.04364202e-01  4.53016346e+04  9.99999999e-01\n",
      "        28  1.10685508e-07  1.01307054066e+00  1.94763001501e+00  9.53405185e-01  1.35155045e+05  1.00000000e+00\n",
      "        29  8.47124547e-07  1.01307076680e+00  2.00000000000e+00  1.00577516e+00  4.36699185e+05  1.00000000e+00\n",
      "\n",
      " Results of the path solver method:\n",
      "\n",
      " xf            =  [-1.01307077]\n",
      " parsf         =  2.0\n",
      " |f(xf,parsf)| =  8.471245473984368e-07\n",
      " steps         =  29\n",
      " status        =  1\n",
      " success       =  True \n",
      "\n",
      " Homotopy successfully completed.\n",
      "\n"
     ]
    }
   ],
   "source": [
    "# Making the time bigger: homotopy on tf\n",
    "p0          = sol_path_e.xf                       # sol is coming from last homotopy\n",
    "pathfun     = lambda p0, tf, e: homfun(p0, e, tf) # invert order of arguments\n",
    "sol_path_tf = nt.path.solve(pathfun, p0, tf_init, tf_final, args=e_final, df=pathfun)"
   ]
  },
  {
   "cell_type": "code",
   "execution_count": 15,
   "metadata": {},
   "outputs": [
    {
     "data": {
      "image/png": "[encoded data removed]",
      "text/plain": [
       "<Figure size 900x600 with 3 Axes>"
      ]
     },
     "metadata": {
      "needs_background": "light"
     },
     "output_type": "display_data"
    }
   ],
   "source": [
    "# Plot solution for (tf, e) = (tf_final, e_final)\n",
    "plotSolution(sol_path_tf.xf, e_final, tf_final)"
   ]
  },
  {
   "cell_type": "markdown",
   "metadata": {},
   "source": [
    "## III) Resolution of the optimal control problem by multiple shooting"
   ]
  },
  {
   "cell_type": "markdown",
   "metadata": {},
   "source": [
    "We come back to the original optimal control problem:\n",
    "\n",
    "$$ \n",
    "    \\left\\{ \n",
    "    \\begin{array}{l}\n",
    "        \\displaystyle J(u)  := \\displaystyle \\int_0^{t_f} x^2(t) \\, \\mathrm{d}t \\longrightarrow \\min \\\\[1.0em]\n",
    "        \\dot{x}(t) = f(x(t), u(t)) := \\displaystyle u(t), \\quad  |u(t)| \\le 1, \\quad t \\in [0, t_f] \\text{ a.e.},    \\\\[1.0em]\n",
    "        x(0) = 1, \\quad x(t_f) = 1/2.\n",
    "    \\end{array}\n",
    "    \\right. \n",
    "$$\n",
    "\n",
    "We have determined that the optimal control follows the strategy:\n",
    "\n",
    "$$\n",
    "    u(t) = \\left\\{ \n",
    "    \\begin{array}{lll}\n",
    "        -1            & \\text{if} & t \\in [0, t_1],     \\\\[0.5em]\n",
    "        \\phantom{-}0  & \\text{if} & t \\in (t_1, t_2],   \\\\[0.5em]\n",
    "        +1            & \\text{if} & t \\in (t_2, t_f],\n",
    "    \\end{array}\n",
    "    \\right. \n",
    "$$\n",
    "\n",
    "with $0 < t_1 < t_2 < t_f=2$. \n",
    "\n",
    "\n",
    "<div class=\"alert alert-warning\">\n",
    "\n",
    "**Goal**\n",
    "\n",
    "The goal is to find the values of the switching times $t_1$ and $t_2$ together with the initial covector $p_0$ (see Remark 2).\n",
    "    \n",
    "</div>"
   ]
  },
  {
   "cell_type": "markdown",
   "metadata": {},
   "source": [
    "### Maximized Hamiltonian and its derivatives"
   ]
  },
  {
   "cell_type": "markdown",
   "metadata": {},
   "source": [
    "We define first the three control laws $u \\equiv \\{-1, 0, 1\\}$."
   ]
  },
  {
   "cell_type": "code",
   "execution_count": 16,
   "metadata": {},
   "outputs": [],
   "source": [
    "# Controls in feedback form\n",
    "@tools.vectorize(vvars=(1, 2, 3))\n",
    "def uplus(t, x, p):\n",
    "    u = +1.0\n",
    "    return u\n",
    "\n",
    "@tools.vectorize(vvars=(1, 2, 3))\n",
    "def uminus(t, x, p):\n",
    "    u = -1.0\n",
    "    return u\n",
    "\n",
    "@tools.vectorize(vvars=(1, 2, 3))\n",
    "def using(t, x, p):\n",
    "    u = 0.0\n",
    "    return u"
   ]
  },
  {
   "cell_type": "markdown",
   "metadata": {},
   "source": [
    "The pseudo-Hamiltonian is\n",
    "\n",
    "$$\n",
    "    H(x,p,u) = pu - x^2.\n",
    "$$"
   ]
  },
  {
   "cell_type": "markdown",
   "metadata": {},
   "source": [
    "<div class=\"alert alert-info\">\n",
    "\n",
    "**_Question 4:_**\n",
    "    \n",
    "Complete the code of the Hamiltonian for $u \\equiv +1$, with its derivatives.\n",
    "    \n",
    "</div>"
   ]
  },
  {
   "cell_type": "code",
   "execution_count": 17,
   "metadata": {},
   "outputs": [],
   "source": [
    "# ----------------------------\n",
    "# Answer 4 to complete here\n",
    "# ----------------------------\n",
    "#\n",
    "# Definition of the Hamiltonian and its derivatives for u = 1\n",
    "#\n",
    "def dhfunplus(t, x, dx, p, dp):\n",
    "    # dh = dh_x dx + dh_p dp\n",
    "    u  = uplus(t, x, p)\n",
    "    hd = u*dp - 2.0*x*dx\n",
    "    return hd\n",
    "    \n",
    "def d2hfunplus(t, x, dx, d2x, p, dp, d2p):\n",
    "    # d2h = dh_xx dx d2x + dh_xp dp d2x + dh_px dx d2p + dh_pp dp d2p\n",
    "    hdd = -2.0 * d2x * dx\n",
    "    return hdd\n",
    "\n",
    "@tools.tensorize(dhfunplus, d2hfunplus, tvars=(2, 3))\n",
    "def hfunplus(t, x, p):\n",
    "    u  = uplus(t, x, p)\n",
    "    h = p * u - x**2\n",
    "    return h\n",
    "\n",
    "hplus = ocp.Hamiltonian(hfunplus)\n",
    "fplus = ocp.Flow(hplus)"
   ]
  },
  {
   "cell_type": "markdown",
   "metadata": {},
   "source": [
    "We give the Hamiltonians for $u=-1$ and $u=0$ with their derivatives."
   ]
  },
  {
   "cell_type": "code",
   "execution_count": 18,
   "metadata": {},
   "outputs": [],
   "source": [
    "# Definition of the Hamiltonian and its derivatives for u = -1\n",
    "def dhfunminus(t, x, dx, p, dp):\n",
    "    # dh = dh_x dx + dh_p dp\n",
    "    u  = uminus(t, x, p)\n",
    "    hd = u*dp - 2.0*x*dx\n",
    "    return hd\n",
    "    \n",
    "def d2hfunminus(t, x, dx, d2x, p, dp, d2p):\n",
    "    # d2h = dh_xx dx d2x + dh_xp dp d2x + dh_px dx d2p + dh_pp dp d2p\n",
    "    hdd    = -2.0 * d2x * dx\n",
    "    return hdd\n",
    "\n",
    "@tools.tensorize(dhfunminus, d2hfunminus, tvars=(2, 3))\n",
    "def hfunminus(t, x, p):\n",
    "    u = uminus(t, x, p)\n",
    "    h = p*u - x**2\n",
    "    return h\n",
    "\n",
    "hminus = ocp.Hamiltonian(hfunminus)\n",
    "fminus = ocp.Flow(hminus)"
   ]
  },
  {
   "cell_type": "code",
   "execution_count": 19,
   "metadata": {},
   "outputs": [],
   "source": [
    "# Definition of the Hamiltonian and its derivatives for u = 0\n",
    "def dhfunsing(t, x, dx, p, dp):\n",
    "    # dh = dh_x dx + dh_p dp\n",
    "    u  = using(t, x, p)\n",
    "    hd = u*dp - 2.0*x*dx\n",
    "    return hd\n",
    "    \n",
    "def d2hfunsing(t, x, dx, d2x, p, dp, d2p):\n",
    "    # d2h = dh_xx dx d2x + dh_xp dp d2x + dh_px dx d2p + dh_pp dp d2p\n",
    "    hdd    = -2.0 * d2x * dx\n",
    "    return hdd\n",
    "\n",
    "@tools.tensorize(dhfunsing, d2hfunsing, tvars=(2, 3))\n",
    "def hfunsing(t, x, p):\n",
    "    u = using(t, x, p)\n",
    "    h = p*u - x**2\n",
    "    return h\n",
    "\n",
    "hsing = ocp.Hamiltonian(hfunsing)\n",
    "fsing = ocp.Flow(hsing)"
   ]
  },
  {
   "cell_type": "markdown",
   "metadata": {},
   "source": [
    "### Shooting function"
   ]
  },
  {
   "cell_type": "markdown",
   "metadata": {},
   "source": [
    "The multiple shooting function is given by\n",
    "\n",
    "$$\n",
    " S(p_0, t_1, t_2) := \n",
    " \\begin{pmatrix}\n",
    "     x(t_1, t_0, x_0, p_0, u_-) \\\\\n",
    "     p(t_1, t_0, x_0, p_0, u_-) \\\\\n",
    "     x(t_f, t_2, x_2, p_2, u_+) -1/2\n",
    " \\end{pmatrix},\n",
    "$$\n",
    "\n",
    "where $z_2 := (x_2, p_2) = z(t_2, t_1, x_1, p_1, u_0)$, $z_1 := (x_1, p_1) = z(t_1, t_0, x_0, p_0, u_-)$ and where z(t, s, a, b, u) is the solution at time $t$ of the Hamiltonian system associated to the control u starting at time $s$ at the initial condition $z(s) = (a,b)$.\n",
    "\n",
    "We have introduced the notation $u_-$ for $u\\equiv -1$, $u_0$ for $u\\equiv 0$ and $u_+$ for $u\\equiv +1$.\n",
    "\n",
    "**_Remark:_** We know that $(x_2, p_2)=(0,0)$."
   ]
  },
  {
   "cell_type": "markdown",
   "metadata": {},
   "source": [
    "<div class=\"alert alert-info\">\n",
    "\n",
    "**_Question 5:_**\n",
    "    \n",
    "Complete the code of the multiple shooting function.\n",
    "    \n",
    "</div>"
   ]
  },
  {
   "cell_type": "code",
   "execution_count": 20,
   "metadata": {},
   "outputs": [],
   "source": [
    "# ----------------------------\n",
    "# Answer 5 to complete here\n",
    "# ----------------------------\n",
    "#\n",
    "# Multiple shooting function\n",
    "#\n",
    "\n",
    "tf = tf_final # we set the final time to the value tf_final\n",
    "\n",
    "def shoot_multiple(y):\n",
    "    p0 = y[0]\n",
    "    t1 = y[1]\n",
    "    t2 = y[2]\n",
    "    \n",
    "    x1, p1 = fminus(t0, x0, p0, t1)\n",
    "    x2, p2 = fsing(t1, x1, p1, t2)\n",
    "    \n",
    "    x_p, _ = fplus(t2, x2, p2, tf)\n",
    "\n",
    "    \n",
    "    s = np.zeros([3])\n",
    "    s[0] = x1\n",
    "    s[1] = p1\n",
    "    s[2] = x_p - xf_target\n",
    "    return s"
   ]
  },
  {
   "cell_type": "markdown",
   "metadata": {},
   "source": [
    "### Resolution of the shooting function"
   ]
  },
  {
   "cell_type": "markdown",
   "metadata": {},
   "source": [
    "<div class=\"alert alert-info\">\n",
    "\n",
    "**_Question 6:_**\n",
    "    \n",
    "Give initial guesses for the times $t_1$ and $t_2$ according to the solution of the regularized problem.\n",
    "    \n",
    "</div>"
   ]
  },
  {
   "cell_type": "code",
   "execution_count": 21,
   "metadata": {},
   "outputs": [],
   "source": [
    "# ----------------------------\n",
    "# Answer 6 to complete here\n",
    "# ----------------------------\n",
    "#\n",
    "# Initial guess for the Newton solver\n",
    "\n",
    "t1_guess = 0.75 \n",
    "t2_guess = 1.5 \n",
    "\n",
    "p0_guess = sol_path_tf.xf # from previous homotopy"
   ]
  },
  {
   "cell_type": "code",
   "execution_count": 22,
   "metadata": {},
   "outputs": [
    {
     "name": "stdout",
     "output_type": "stream",
     "text": [
      "\n",
      "     Calls  |f(x)|                 |x|\n",
      " \n",
      "         1  3.615396808017156e-01  1.959288743023240e+00\n",
      "         2  6.249999481071410e-02  2.092583627538212e+00\n",
      "         3  1.321059235559936e-03  2.062193944457915e+00\n",
      "         4  1.176371049184187e-10  2.061552812751768e+00\n",
      "         5  3.773215471615482e-16  2.061552812808831e+00\n",
      "\n",
      " Results of the nle solver method:\n",
      "\n",
      " xsol    =  [-1.   1.   1.5]\n",
      " f(xsol) =  [-2.08166817e-16 -2.94469310e-16 -1.11022302e-16]\n",
      " nfev    =  5\n",
      " njev    =  1\n",
      " status  =  1\n",
      " success =  True \n",
      "\n",
      " Successfully completed: relative error between two consecutive iterates is at most TolX.\n",
      "\n"
     ]
    }
   ],
   "source": [
    "# Resolution of the shooting function\n",
    "y_guess  = np.array([float(p0_guess), t1_guess, t2_guess])\n",
    "sol_nle_mul  = nt.nle.solve(shoot_multiple, y_guess)"
   ]
  },
  {
   "cell_type": "code",
   "execution_count": 23,
   "metadata": {},
   "outputs": [],
   "source": [
    "# function to plot solution\n",
    "\n",
    "def plotSolutionBSB(p0, t1, t2, tf):\n",
    "\n",
    "    N      = 20\n",
    "    \n",
    "    tspan1  = list(np.linspace(t0, t1, N+1))\n",
    "    tspan2  = list(np.linspace(t1, t2, N+1))\n",
    "    tspanf  = list(np.linspace(t2, tf, N+1))\n",
    "        \n",
    "    x1, p1 = fminus(t0, x0, p0, tspan1)  # on [ 0, t1]\n",
    "    x2, p2 =  fsing(t1, x1[-1], p1[-1], tspan2)  # on [t1, t2]\n",
    "    xf, pf =  fplus(t2, x2[-1], p2[-1], tspanf)  # on [t2, tf]\n",
    "    \n",
    "    u1     = uminus(tspan1, x1, p1)\n",
    "    u2     =  using(tspan2, x2, p2)\n",
    "    uf     =  uplus(tspanf, xf, pf)\n",
    "\n",
    "    fig = plt.figure()\n",
    "    ax  = fig.add_subplot(511); ax.plot(tspan1, x1); ax.plot(tspan2, x2); ax.plot(tspanf, xf); \n",
    "    ax.set_xlabel('t'); ax.set_ylabel('$x$'); ax.axhline(0, color='k')\n",
    "    ax  = fig.add_subplot(513);  ax.plot(tspan1, p1); ax.plot(tspan2, p2); ax.plot(tspanf, pf);\n",
    "    ax.set_xlabel('t'); ax.set_ylabel('$p$'); ax.axhline(0, color='k')\n",
    "    ax  = fig.add_subplot(515);  ax.plot(tspan1, u1); ax.plot(tspan2, u2); ax.plot(tspanf, uf);\n",
    "    ax.set_xlabel('t'); ax.set_ylabel('$u$'); ax.axhline(0, color='k')"
   ]
  },
  {
   "cell_type": "code",
   "execution_count": 24,
   "metadata": {},
   "outputs": [
    {
     "data": {
      "image/png": "[encoded data removed]",
      "text/plain": [
       "<Figure size 900x600 with 3 Axes>"
      ]
     },
     "metadata": {
      "needs_background": "light"
     },
     "output_type": "display_data"
    }
   ],
   "source": [
    "# plot solution\n",
    "p0 = sol_nle_mul.x[0]\n",
    "t1 = sol_nle_mul.x[1]\n",
    "t2 = sol_nle_mul.x[2]\n",
    "plotSolutionBSB(p0, t1, t2, tf)"
   ]
  }
 ],
 "metadata": {
  "kernelspec": {
   "display_name": "Python 3",
   "language": "python",
   "name": "python3"
  },
  "language_info": {
   "codemirror_mode": {
    "name": "ipython",
    "version": 3
   },
   "file_extension": ".py",
   "mimetype": "text/x-python",
   "name": "python",
   "nbconvert_exporter": "python",
   "pygments_lexer": "ipython3",
   "version": "3.7.10"
  }
 },
 "nbformat": 4,
 "nbformat_minor": 4
}
