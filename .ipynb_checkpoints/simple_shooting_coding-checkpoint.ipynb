{
 "cells": [
  {
   "cell_type": "markdown",
   "metadata": {},
   "source": [
    "# Implementing the indirect simple shooting method"
   ]
  },
  {
   "cell_type": "markdown",
   "metadata": {},
   "source": [
    "* Author: Olivier Cots\n",
    "* Date: March 2021\n",
    "\n",
    "------"
   ]
  },
  {
   "cell_type": "markdown",
   "metadata": {},
   "source": [
    "## The energy min 2D integrator problem with friction and simple limit conditions"
   ]
  },
  {
   "cell_type": "markdown",
   "metadata": {},
   "source": [
    "Consider the following optimal control problem (Lagrange cost, fixed final time):\n",
    "\n",
    "$$ \n",
    "    \\left\\{ \n",
    "    \\begin{array}{l}\n",
    "        \\displaystyle J(u)  := \\displaystyle \\frac{1}{2} \\int_0^{1} u^2(t) \\, \\mathrm{d}t \\longrightarrow \\min \\\\[1.0em]\n",
    "        \\dot{x}(t) = (x_2(t), -\\mu x_2^2(t) + u(t)), \\quad  u(t) \\in \\mathrm{R}, \\quad t \\in [0, 1] \\text{ a.e.},    \\\\[1.0em]\n",
    "        x(0) = (-1, 0), \\quad x(1) = (1, 0).\n",
    "    \\end{array}\n",
    "    \\right. \n",
    "$$\n",
    "\n",
    "We consider the normal case ($p^0 = -1$), so the pseudo-Hamiltonian of the problem is\n",
    "\n",
    "$$\n",
    "    H(x,p,u) = p_1 x_2 + p_2 (-\\mu x_2^2 + u) - \\frac{1}{2} u^2.\n",
    "$$\n",
    "\n",
    "We denote by $t_0$, $t_f$ and $x_0$ the initial time, final time and initial condition.\n",
    "\n",
    "<div class=\"alert alert-warning\">\n",
    "\n",
    "**Main goal**\n",
    "\n",
    "Code the simple shooting method to solve this optimal control problem.\n",
    "    \n",
    "</div>\n",
    "\n",
    "Steps:\n",
    "\n",
    "1. Use nutopy package to solve the problem: see this [page](https://ct.gitlabpages.inria.fr/gallery/shooting_tutorials/simple_shooting_general.html) for a general presentation of the simple shooting method with the use of nutopy package. See this [page](https://ct.gitlabpages.inria.fr/gallery/smooth_case/smooth_case.html) for a more detailed use of nutopy package on a smooth example.\n",
    "2. Replace the [numerical integrator](https://en.wikipedia.org/w/index.php?title=Numerical_integration&oldid=1000975450). It is asked to code Euler (order 1) and Runge (order 2) methods and a Runge-Kutta method of order 4.\n",
    "3. Replace the [Newton solver](https://en.wikipedia.org/wiki/Newton%27s_method). It is asked to code a simple version of a Newton solver."
   ]
  },
  {
   "cell_type": "markdown",
   "metadata": {},
   "source": [
    "## Preliminaries"
   ]
  },
  {
   "cell_type": "code",
   "execution_count": 1,
   "metadata": {},
   "outputs": [],
   "source": [
    "# Import packages\n",
    "#\n",
    "import nutopy as nt\n",
    "import nutopy.tools as tools\n",
    "import nutopy.ocp as ocp\n",
    "import numpy as np\n",
    "import matplotlib.pyplot as plt\n",
    "\n",
    "plt.rcParams['figure.dpi'] = 150"
   ]
  },
  {
   "cell_type": "code",
   "execution_count": 2,
   "metadata": {},
   "outputs": [],
   "source": [
    "# Parameters\n",
    "# This parameters are used all through the notebook.\n",
    "#\n",
    "t0          = 0.0                   # initial time\n",
    "tf          = 1.0                   # final time\n",
    "x0          = np.array([-1.0, 0.0]) # initial condition\n",
    "xf_target   = np.array([1.0, 0.0])  # final target\n",
    "mu          = 0.5                   # friction parameter\n",
    "dimx        = x0.shape[0]           # dimension of the state space"
   ]
  },
  {
   "cell_type": "markdown",
   "metadata": {},
   "source": [
    "## Step 1: Resolution of the shooting function with nutopy"
   ]
  },
  {
   "cell_type": "markdown",
   "metadata": {},
   "source": [
    "The maximized Hamiltonian is\n",
    "\n",
    "$$\n",
    "    h(x, p) = H(x, p, u[x, p]) = x_2 p_1 - \\mu x_2^2 p_2 + \\frac{1}{2} p_2^2, \\quad z = (x, p),\n",
    "$$\n",
    "\n",
    "where $u[x, p] = p_2$ is the maximizing control in feedback form."
   ]
  },
  {
   "cell_type": "code",
   "execution_count": 3,
   "metadata": {},
   "outputs": [],
   "source": [
    "# Maximized Hamiltonian with its derivatives and its flow\n",
    "def hfun(t, x, p):\n",
    "    x2 = x[1]\n",
    "    p1 = p[0]\n",
    "    p2 = p[1]\n",
    "    h  = p1*x2-mu*x2**2*p2+0.5*p2**2 \n",
    "    return h\n",
    "\n",
    "def dhfun(t, x, dx, p, dp):\n",
    "    x2  = x[1]\n",
    "    dx2 = dx[1]\n",
    "    p1  = p[0]\n",
    "    p2  = p[1]\n",
    "    dp1 = dp[0]\n",
    "    dp2 = dp[1]\n",
    "    hd  = dp1*x2+p1*dx2-2.0*mu*x2*dx2*p2-mu*x2**2*dp2+p2*dp2\n",
    "    return hd\n",
    "\n",
    "def d2hfun(t, x, dx, d2x, p, dp, d2p):\n",
    "    # d2h = dh_xx dx d2x + dh_xp dp d2x + dh_px dx d2p + dh_pp dp d2p\n",
    "    x2   = x[1]\n",
    "    dx2  = dx[1]\n",
    "    d2x2 = d2x[1]\n",
    "    p1   = p[0]\n",
    "    p2   = p[1]\n",
    "    dp1  = dp[0]\n",
    "    dp2  = dp[1]\n",
    "    d2p1 = d2p[0]\n",
    "    d2p2 = d2p[1]\n",
    "    hdd  =    dp1*d2x2 \\\n",
    "            + d2p1*dx2 \\\n",
    "            - 2.0*mu*d2x2*dx2*p2 - 2.0*mu*x2*dx2*d2p2 \\\n",
    "            - 2.0*mu*x2*d2x2*dp2 \\\n",
    "            + d2p2*dp2\n",
    "    return hdd\n",
    "\n",
    "hfun = nt.tools.tensorize(dhfun, d2hfun, tvars=(2, 3))(hfun)\n",
    "h    = ocp.Hamiltonian(hfun)   # The Hamiltonian object\n",
    "f    = ocp.Flow(h)             # The flow associated to the Hamiltonian object is \n",
    "                               # the exponential mapping with its derivative\n",
    "                               # that can be used to define the Jacobian of the \n",
    "                               # shooting function"
   ]
  },
  {
   "cell_type": "markdown",
   "metadata": {},
   "source": [
    "The shooting function is given by\n",
    "\n",
    "$$\n",
    "    S(p_0) = \\pi_x(z(t_f, x_0, p_0)) - x_f,\n",
    "$$\n",
    "\n",
    "where $x_f = (1, 0)$ is the target, where $\\pi_x(x,p) := x$ is the canonical projection into the state space and where $z(t_f, x_0, p_0)$ is the solution at time $t_f$ of \n",
    "\n",
    "$$\n",
    "    \\dot{z}(t) = \\vec{H}(z(t), u[z(t)]) = \\vec{h}(z(t)), \\quad z(0) = (x_0, p_0),\n",
    "$$\n",
    "\n",
    "with $\\vec{H}(z, u) := (\\nabla_p H(z,u), -\\nabla_x H(z,u))$ and $\\vec{h}(z) := (\\nabla_p h(z), -\\nabla_x h(z))$."
   ]
  },
  {
   "cell_type": "code",
   "execution_count": 4,
   "metadata": {},
   "outputs": [],
   "source": [
    "# Shooting function and its derivative\n",
    "def dshoot(p0, dp0):\n",
    "    (xf, dxf), _ = f(t0, x0, (p0, dp0), tf)\n",
    "    s  = xf - xf_target # code duplication (in order to compute dxf, shooting also needs to compute xf;\n",
    "                        # accordingly, full=True)\n",
    "    ds = dxf\n",
    "    return s, ds\n",
    "\n",
    "@tools.tensorize(dshoot, full=True)\n",
    "def shoot(p0):\n",
    "    xf, _ = f(t0, x0, p0, tf)\n",
    "    s = xf - xf_target\n",
    "    return s"
   ]
  },
  {
   "cell_type": "markdown",
   "metadata": {},
   "source": [
    "We solve with the nutopy package\n",
    "$$\n",
    "    S(p_0) = 0.\n",
    "$$"
   ]
  },
  {
   "cell_type": "code",
   "execution_count": 5,
   "metadata": {},
   "outputs": [
    {
     "name": "stdout",
     "output_type": "stream",
     "text": [
      "\n",
      "     Calls  |f(x)|                 |x|\n",
      " \n",
      "         1  1.967300768937284e+00  1.414213562373095e-01\n",
      "         2  1.719731572785058e+00  1.798534093044435e+01\n",
      "         3  1.410906422430162e+00  3.487107124079319e+01\n",
      "         4  1.991207495319201e+00  3.937341638076401e+01\n",
      "         5  7.277880985716003e-01  3.625515294040529e+01\n",
      "         6  4.725619938021236e-01  3.555941926121005e+01\n",
      "         7  3.166103150680820e-02  3.433969876028567e+01\n",
      "         8  2.245063172737618e-03  3.442461252396227e+01\n",
      "         9  6.943644107636048e-04  3.442864514091168e+01\n",
      "        10  1.078577109838329e-04  3.442751328490402e+01\n",
      "        11  2.201216851276362e-07  3.442730460220396e+01\n",
      "        12  2.084482725336880e-09  3.442730418046801e+01\n",
      "        13  1.938850712358454e-11  3.442730418446996e+01\n",
      "\n",
      " Results of the nle solver method:\n",
      "\n",
      " xsol    =  [31.89425568 12.96131661]\n",
      " f(xsol) =  [4.31077396e-12 1.89032123e-11]\n",
      " nfev    =  13\n",
      " njev    =  1\n",
      " status  =  1\n",
      " success =  True \n",
      "\n",
      " Successfully completed: relative error between two consecutive iterates is at most TolX.\n",
      "\n",
      " p0_nutopy        = [31.89425568 12.96131661] \n",
      " shoot(p0_nutopy) = [4.31077396e-12 1.89032123e-11]\n"
     ]
    }
   ],
   "source": [
    "# Resolution of the shooting function S(p0) = 0\n",
    "#\n",
    "p0_guess = np.array([0.1, 0.1])\n",
    "sol = nt.nle.solve(shoot, p0_guess, df=shoot); p0_nutopy = sol.x\n",
    "print(' p0_nutopy        =', p0_nutopy, \\\n",
    "      '\\n shoot(p0_nutopy) =', shoot(p0_nutopy))"
   ]
  },
  {
   "cell_type": "code",
   "execution_count": 6,
   "metadata": {},
   "outputs": [],
   "source": [
    "# Functions needed to plot the solution\n",
    "@tools.vectorize(vvars=(1,))\n",
    "def ufun(p):\n",
    "    u = p[1] # u = p2\n",
    "    return u\n",
    "\n",
    "def plotSolution(p0):\n",
    "\n",
    "    N      = 100\n",
    "    tspan  = list(np.linspace(t0, tf, N+1))\n",
    "    xf, pf = f(t0, x0, p0, tspan)\n",
    "    u      = ufun(pf)\n",
    "\n",
    "    fig = plt.figure()\n",
    "    ax  = fig.add_subplot(711); ax.plot(tspan, xf); ax.set_xlabel('t'); ax.set_ylabel('$x$'); ax.axhline(0, color='k')\n",
    "    ax  = fig.add_subplot(713); ax.plot(tspan, pf); ax.set_xlabel('t'); ax.set_ylabel('$p$'); ax.axhline(0, color='k')\n",
    "    ax  = fig.add_subplot(715); ax.plot(tspan,  u); ax.set_xlabel('t'); ax.set_ylabel('$u$'); ax.axhline(0, color='k')\n",
    "    \n",
    "    x1  = np.zeros(N+1)\n",
    "    x2  = np.zeros(N+1)\n",
    "    for i in range(0, N+1):\n",
    "        x1[i] = xf[i][0]\n",
    "        x2[i] = xf[i][1]\n",
    "    \n",
    "    ax  = fig.add_subplot(717); ax.plot(x1,  x2); ax.set_xlabel('x1'); ax.set_ylabel('$x2$'); ax.axhline(0, color='k')"
   ]
  },
  {
   "cell_type": "code",
   "execution_count": 7,
   "metadata": {},
   "outputs": [
    {
     "data": {
      "image/png": "[encoded data removed]",
      "text/plain": [
       "<Figure size 900x600 with 4 Axes>"
      ]
     },
     "metadata": {
      "needs_background": "light"
     },
     "output_type": "display_data"
    }
   ],
   "source": [
    "# Plot solution\n",
    "plotSolution(p0_nutopy)"
   ]
  },
  {
   "cell_type": "markdown",
   "metadata": {},
   "source": [
    "## Step 2: Replacing the numerical integrator"
   ]
  },
  {
   "cell_type": "markdown",
   "metadata": {},
   "source": [
    "Let us consider an Initial Value Problem (IVP) or Cauchy problem of the form\n",
    "\n",
    "$$\n",
    "\\begin{equation}\n",
    "    \\tag{IVP}\n",
    "    \\dot{x}(t) = f(t, x(t)), \\quad x(t_0) = x_0,\n",
    "    \\label{eq:ivp}\n",
    "\\end{equation}\n",
    "$$\n",
    "\n",
    "with $f : \\Omega \\in \\mathrm{R} \\times \\mathrm{R}^n \\to \\mathrm{R}^n$, \n",
    "$\\Omega$ an open set and $(t_0, x_0) \\in \\Omega$. Let us assume that $f$ is **continuous**.\n",
    "\n",
    "**_Definition._**  We call a solution of $\\eqref{eq:ivp}$ any pair $(I, x)$ such that $I$ is an open interval of $\\mathrm{R}$ containing $t_0$, $x : I \\to \\mathrm{R}^n$ is a differentiable mapping on $I$ and such that:\n",
    "\n",
    "* $(t, x(t)) \\in \\Omega$, $\\forall t \\in I$,\n",
    "* $\\dot{x}(t) = f(t, x(t))$, $\\forall t \\in I$,\n",
    "* $x(t_0) = x_0$.\n",
    "\n",
    "Such a solution is also called an *integral curve* of the differential equation $\\dot{x}(t) = f(t, x(t))$.\n",
    "\n",
    "**_Differential equation vs. integral equation._** The differential equation $\\dot{x}(t) = f(t, x(t))$ with the initial condition $x(t_0) = x_0$ is equivalent to the *integral equation* (see [the fundamental theorem of calculus](https://en.wikipedia.org/wiki/Fundamental_theorem_of_calculus))\n",
    "\n",
    "$$\n",
    "    x(t) = x_0 + \\int_0^s f(s, x(s)) ~\\mathrm{d}s.\n",
    "$$\n",
    "\n",
    "**_Remark._** If $f$ is continuous (resp. $C^k$) and $(I, x)$ is a solution, then $x$ is $C^1$ (resp. $C^{k+1})$ on $I$.\n",
    "\n",
    "<div class=\"alert alert-warning\">\n",
    "\n",
    "**Goal**\n",
    "\n",
    "Compute a numerical approximation of a solution $(I, x)$.\n",
    "    \n",
    "</div>\n",
    "\n",
    "We consider a partition $t_0 < t_1 < \\cdots < t_N = t_f$, $[t_0, t_f] \\subset I$. Let $h_i := t_{i+1}-t_i$ denote the time steps (not necessarily equal) for $i = 0, \\cdots, N-1$ and $h_\\mathrm{max} = \\max_i(h_i)$ the longest step.\n",
    "The goal is to compute iteratively approximations of $x(t_1), \\cdots, x(t_N)$ that we will denote by $x_1, \\cdots, x_N$."
   ]
  },
  {
   "cell_type": "markdown",
   "metadata": {},
   "source": [
    "### Preliminaries"
   ]
  },
  {
   "cell_type": "code",
   "execution_count": 20,
   "metadata": {},
   "outputs": [],
   "source": [
    "# Parameters for integration\n",
    "Nsteps = 10 # Number of integration steps"
   ]
  },
  {
   "cell_type": "markdown",
   "metadata": {},
   "source": [
    "### Euler"
   ]
  },
  {
   "cell_type": "markdown",
   "metadata": {},
   "source": [
    "The [Euler scheme](https://en.wikipedia.org/wiki/Euler_method) is simply given by the following approximation of the integral:\n",
    "\n",
    "$$\n",
    "    \\int_{t_i}^{t_{i+1}} f(s, x(s)) ~\\mathrm{d}s \\approx h_i f(t_i, x_i).\n",
    "$$\n",
    "\n",
    "Hence the Euler scheme is given by\n",
    "\n",
    "$$\n",
    "    x_{i+1} = x_i + h_i f(t_i, x_i).\n",
    "$$\n"
   ]
  },
  {
   "cell_type": "markdown",
   "metadata": {},
   "source": [
    "<div class=\"alert alert-info\">\n",
    "\n",
    "**_Question 1:_**\n",
    "    \n",
    "Complete the code of `ode_euler` (see the documentation of the function for details).\n",
    "      \n",
    "</div>"
   ]
  },
  {
   "cell_type": "code",
   "execution_count": 21,
   "metadata": {},
   "outputs": [
    {
     "name": "stdout",
     "output_type": "stream",
     "text": [
      " ||(cos(t), -sin(t)) - x|| =  [0.05055979 0.00108516] \t t =  3.141592653589793\n"
     ]
    }
   ],
   "source": [
    "# ----------------------------\n",
    "# Answer 1 to complete here\n",
    "# ----------------------------\n",
    "#\n",
    "# Euler integrator\n",
    "#\n",
    "def ode_euler(f, t0, x0, tf, N):\n",
    "    \"\"\"\n",
    "        Computes the approximated solution at time tf of \n",
    "\n",
    "            dx = f(t, x), x(t0) = x0\n",
    "            \n",
    "        with the Euler scheme and uniform step size.\n",
    "        \n",
    "        Inputs: \n",
    "        \n",
    "            - f  : dynamics\n",
    "            - t0 : initial time, float\n",
    "            - x0 : initial condition, array\n",
    "            - tf : final time, float\n",
    "            - N  : number of steps, integer\n",
    "            \n",
    "        Outputs:\n",
    "        \n",
    "            - x  : the solution x(tf)     \n",
    "    \"\"\"\n",
    "    \n",
    "    tspan = np.linspace(t0, tf, N+1)\n",
    "    h = (tf-t0)/N\n",
    "    x = x0\n",
    "    \n",
    "    ### TO COMPLETE\n",
    "    for i in range(N):\n",
    "        x = x + h * f(tspan[i], x)\n",
    "    ###\n",
    "        \n",
    "    return x\n",
    "\n",
    "# Test of the Euler integrator\n",
    "# We have x(t) = (cos(t), -sin(t))\n",
    "t = np.pi\n",
    "x = ode_euler(lambda t, x: np.array([x[1], -x[0]]), 0.0, np.array([1.0, 0.0]), t, 100)\n",
    "print(' ||(cos(t), -sin(t)) - x|| = ', np.array([np.cos(t), -np.sin(t)])-x, \\\n",
    "      '\\t t = ', t)"
   ]
  },
  {
   "cell_type": "markdown",
   "metadata": {},
   "source": [
    "<div class=\"alert alert-info\">\n",
    "\n",
    "**_Question 2:_**\n",
    "    \n",
    "Complete the code of `hvfun` implementing the Hamiltonian system $\\vec{H}(z(t), u[z(t)]) = \\vec{h}(z(t))$.\n",
    "      \n",
    "</div>"
   ]
  },
  {
   "cell_type": "code",
   "execution_count": 10,
   "metadata": {},
   "outputs": [],
   "source": [
    "# ----------------------------\n",
    "# Answer 2 to complete here\n",
    "# ----------------------------\n",
    "#\n",
    "# Hamiltonian system\n",
    "#\n",
    "def hvfun(t, z):\n",
    "    n  = dimx\n",
    "    x  = z[0:n]\n",
    "    p  = z[n:2*n]\n",
    "    x2 = x[1]\n",
    "    p1 = p[0]\n",
    "    p2 = p[1]\n",
    "    hv = np.array([x2, -mu*x2**2 + .5*p2, 0, -p1 + 2*mu*p2x2])\n",
    "    #hv = np.array([0.0, 0.0, 0.0, 0.0])\n",
    "    return hv"
   ]
  },
  {
   "cell_type": "markdown",
   "metadata": {},
   "source": [
    "<div class=\"alert alert-info\">\n",
    "\n",
    "**_Question 3:_**\n",
    "    \n",
    "Complete the code of `shoot_euler` implementing the shooting function using `ode_euler` for integration.\n",
    "      \n",
    "</div>"
   ]
  },
  {
   "cell_type": "code",
   "execution_count": 11,
   "metadata": {},
   "outputs": [],
   "source": [
    "# ----------------------------\n",
    "# Answer 3 to complete here\n",
    "# ----------------------------\n",
    "#\n",
    "# Shooting function with Euler method\n",
    "#\n",
    "def shoot_euler(p0):\n",
    "    n  = dimx\n",
    "    z0 = np.hstack((x0, p0))\n",
    "    ### TO COMPLETE\n",
    "    s = np.zeros([n])\n",
    "    ###\n",
    "    return s"
   ]
  },
  {
   "cell_type": "code",
   "execution_count": 12,
   "metadata": {},
   "outputs": [
    {
     "name": "stdout",
     "output_type": "stream",
     "text": [
      "\n",
      "     Calls  |f(x)|                 |x|\n",
      " \n",
      "         1  0.000000000000000e+00  1.414213562373095e-01\n",
      "         2  0.000000000000000e+00  1.414213562373095e-01\n",
      "\n",
      " Results of the nle solver method:\n",
      "\n",
      " xsol    =  [0.1 0.1]\n",
      " f(xsol) =  [0. 0.]\n",
      " nfev    =  2\n",
      " njev    =  1\n",
      " status  =  1\n",
      " success =  True \n",
      "\n",
      " Successfully completed: relative error between two consecutive iterates is at most TolX.\n",
      "\n",
      " p0_euler               = [0.1 0.1] \n",
      " ||p0_euler-p0_nutopy|| = 34.297057584480065 \n",
      " shoot(p0_euler)        = [-1.96666508  0.05000781]\n"
     ]
    }
   ],
   "source": [
    "# Resolution of the shooting function\n",
    "p0_guess = np.array([0.1, 0.1])\n",
    "sol_euler = nt.nle.solve(shoot_euler, p0_guess); p0_euler = sol_euler.x\n",
    "\n",
    "# we compare the solution with the one obtained with nutopy\n",
    "# we call the shooting function from nutopy\n",
    "print(' p0_euler               =', p0_euler, \\\n",
    "      '\\n ||p0_euler-p0_nutopy|| =', np.linalg.norm(p0_euler-p0_nutopy), \\\n",
    "      '\\n shoot(p0_euler)        =', shoot(p0_euler))"
   ]
  },
  {
   "cell_type": "code",
   "execution_count": 13,
   "metadata": {},
   "outputs": [
    {
     "data": {
      "image/png": "[encoded data removed]",
      "text/plain": [
       "<Figure size 900x600 with 4 Axes>"
      ]
     },
     "metadata": {
      "needs_background": "light"
     },
     "output_type": "display_data"
    }
   ],
   "source": [
    "# Plot solution\n",
    "plotSolution(p0_euler)"
   ]
  },
  {
   "cell_type": "markdown",
   "metadata": {},
   "source": [
    "### Runge"
   ]
  },
  {
   "cell_type": "markdown",
   "metadata": {},
   "source": [
    "We can show for the Euler method that the global error $||x_N - x(t_f)||$ behaves like $Ch_\\mathrm{max}$, where $C$ is a constant depending on the problem and $h_\\mathrm{max}$ is the maximal step size. Hence, if we want a precision of 6 decimals for instance, then, one would need about a million steps, which is not very satisfactory. The obvious idea to improve the numerical accuracy is to approximate the integral by a quadrature formulae of higher order. If we exploit the middle point, we have\n",
    "\n",
    "$$\n",
    "    x(t_{i+1}) \\approx x_i + h_i f(t_i + \\frac{h_i}{2}, x(t_i + \\frac{h_i}{2})).\n",
    "$$\n",
    "\n",
    "The problem here is that we do not know the value of $x(t_i + \\frac{h_i}{2})$. At this stage, the idea is to approximate it by an Euler step: $x(t_i + \\frac{h_i}{2}) \\approx x_i + \\frac{h_i}{2} f(t_i, x_i)$. At the end, we obtain what we call the [Runge scheme](https://en.wikipedia.org/wiki/Midpoint_method) (or midpoint method):\n",
    "\n",
    "$$\n",
    "     x_{i+1} = x_i + h_i f(t_i + \\frac{h_i}{2}, x_i + \\frac{h_i}{2} f(t_i, x_i)).\n",
    "$$\n",
    "\n",
    "Using the Runge, we can show that the global error is bounded by $Ch_\\mathrm{max}^2$. Hence, to obtain a precision of 6 digits, a thousands steps will usually do."
   ]
  },
  {
   "cell_type": "markdown",
   "metadata": {},
   "source": [
    "<div class=\"alert alert-info\">\n",
    "\n",
    "**_Question 4:_**\n",
    "    \n",
    "Complete the code of `ode_runge` (see the documentation of the function for details).\n",
    "      \n",
    "</div>"
   ]
  },
  {
   "cell_type": "code",
   "execution_count": 22,
   "metadata": {},
   "outputs": [
    {
     "name": "stdout",
     "output_type": "stream",
     "text": [
      " ||(cos(t), -sin(t)) - x|| =  [ 1.20427602e-05 -5.16624482e-04] \t t =  3.141592653589793\n"
     ]
    }
   ],
   "source": [
    "# ----------------------------\n",
    "# Answer 4 to complete here\n",
    "# ----------------------------\n",
    "#\n",
    "#  Runge integrator\n",
    "#\n",
    "def ode_runge(f, t0, x0, tf, N):\n",
    "    \"\"\"\n",
    "        Computes the approximated solution at time tf of \n",
    "\n",
    "            dx = f(t, x), x(t0) = x0\n",
    "            \n",
    "        with the Runge scheme and uniform step size.\n",
    "        \n",
    "        Inputs: \n",
    "        \n",
    "            - f  : dynamics\n",
    "            - t0 : initial time, float\n",
    "            - x0 : initial condition, array\n",
    "            - tf : final time, float\n",
    "            - N  : number of steps, integer\n",
    "            \n",
    "        Outputs:\n",
    "        \n",
    "            - x  : the solution x(tf)    \n",
    "    \"\"\"\n",
    "    tspan = np.linspace(t0, tf, N+1)\n",
    "    h = (tf-t0)/N\n",
    "    x = x0\n",
    "    \n",
    "    ### TO COMPLETE\n",
    "    for i in range(N):\n",
    "        x = x + h * f(tspan[i] + .5*h, x + .5*h*f(tspan[i], x))\n",
    "    ###\n",
    "    \n",
    "    return x\n",
    "\n",
    "# Test of the Runge integrator\n",
    "# We have x(t) = (cos(t), -sin(t))\n",
    "t = np.pi\n",
    "x = ode_runge(lambda t, x: np.array([x[1], -x[0]]), 0.0, np.array([1.0, 0.0]), t, 100)\n",
    "print(' ||(cos(t), -sin(t)) - x|| = ', np.array([np.cos(t), -np.sin(t)])-x, \\\n",
    "      '\\t t = ', t)"
   ]
  },
  {
   "cell_type": "code",
   "execution_count": 15,
   "metadata": {},
   "outputs": [],
   "source": [
    "# Shooting function with Runge method\n",
    "def shoot_runge(p0):\n",
    "    n  = dimx\n",
    "    z0 = np.hstack((x0, p0))\n",
    "    zf = ode_runge(hvfun, t0, z0, tf, Nsteps)\n",
    "    xf = zf[0:n]\n",
    "    s  = xf - xf_target\n",
    "    return s"
   ]
  },
  {
   "cell_type": "code",
   "execution_count": 16,
   "metadata": {},
   "outputs": [
    {
     "name": "stdout",
     "output_type": "stream",
     "text": [
      "\n",
      "     Calls  |f(x)|                 |x|\n",
      " \n",
      "         1  2.000000000000000e+00  1.414213562373095e-01\n",
      "         2  2.000000000000000e+00  1.424248669034822e+01\n",
      "         3  2.000000000000000e+00  7.171765024202418e+00\n",
      "         4  2.000000000000000e+00  1.424248669034822e+01\n",
      "         5  2.000000000000000e+00  7.171765024202418e+00\n",
      "         6  2.000000000000000e+00  3.636908959705556e+00\n",
      "         7  2.000000000000000e+00  1.870442030802686e+00\n",
      "         8  2.000000000000000e+00  9.889523220543228e-01\n",
      "         9  2.000000000000000e+00  5.510905984031288e-01\n",
      "        10  2.000000000000000e+00  3.361878921439011e-01\n",
      "        11  2.000000000000000e+00  2.330324401496058e-01\n",
      "        12  2.000000000000000e+00  1.846626688546979e-01\n",
      "        13  2.000000000000000e+00  1.621333129900975e-01\n",
      "        14  2.000000000000000e+00  1.515020485910709e-01\n",
      "        15  2.000000000000000e+00  1.463856265069262e-01\n",
      "        16  2.000000000000000e+00  1.438834767961824e-01\n",
      "        17  2.000000000000000e+00  1.426472825371728e-01\n",
      "        18  2.000000000000000e+00  1.420330192228565e-01\n",
      "        19  2.000000000000000e+00  1.417268605814199e-01\n",
      "        20  2.000000000000000e+00  1.415740263572520e-01\n",
      "        21  2.000000000000000e+00  1.414976707510402e-01\n",
      "        22  2.000000000000000e+00  1.414595083534572e-01\n",
      "        23  2.000000000000000e+00  1.414404310096839e-01\n",
      "        24  2.000000000000000e+00  1.414308933020068e-01\n",
      "        25  2.000000000000000e+00  1.414261246892776e-01\n",
      "        26  2.000000000000000e+00  1.414237404431974e-01\n",
      "        27  2.000000000000000e+00  1.414225483352293e-01\n",
      "        28  2.000000000000000e+00  1.414219522850133e-01\n",
      "        29  2.000000000000000e+00  1.414216542608474e-01\n",
      "        30  2.000000000000000e+00  1.414215052490000e-01\n",
      "        31  2.000000000000000e+00  1.414214307431351e-01\n",
      "        32  2.000000000000000e+00  1.414213934902174e-01\n",
      "        33  2.000000000000000e+00  1.414213748637622e-01\n",
      "        34  2.000000000000000e+00  1.414213655505356e-01\n",
      "        35  2.000000000000000e+00  1.414213608939225e-01\n",
      "        36  2.000000000000000e+00  1.414213585656160e-01\n",
      "        37  2.000000000000000e+00  1.414213574014627e-01\n",
      "\n",
      " Results of the nle solver method:\n",
      "\n",
      " xsol    =  [0.1 0.1]\n",
      " f(xsol) =  [-2.  0.]\n",
      " nfev    =  37\n",
      " njev    =  2\n",
      " status  =  1\n",
      " success =  True \n",
      "\n",
      " Successfully completed: relative error between two consecutive iterates is at most TolX.\n",
      "\n",
      " p0_runge               = [0.1 0.1] \n",
      " ||p0_runge-p0_nutopy|| = 34.297057584480065 \n",
      " shoot(p0_runge)        = [-1.96666508  0.05000781]\n"
     ]
    }
   ],
   "source": [
    "# Resolution of the shooting function\n",
    "p0_guess = np.array([0.1, 0.1])\n",
    "sol_runge = nt.nle.solve(shoot_runge, p0_guess); p0_runge = sol_runge.x\n",
    "\n",
    "# we compare the solution with the one obtained with nutopy\n",
    "# we call the shooting function from nutopy\n",
    "print(' p0_runge               =', p0_runge, \\\n",
    "      '\\n ||p0_runge-p0_nutopy|| =', np.linalg.norm(p0_runge-p0_nutopy), \\\n",
    "      '\\n shoot(p0_runge)        =', shoot(p0_runge))"
   ]
  },
  {
   "cell_type": "code",
   "execution_count": 17,
   "metadata": {},
   "outputs": [
    {
     "data": {
      "image/png": "[encoded data removed]",
      "text/plain": [
       "<Figure size 900x600 with 4 Axes>"
      ]
     },
     "metadata": {
      "needs_background": "light"
     },
     "output_type": "display_data"
    }
   ],
   "source": [
    "# Plot solution\n",
    "plotSolution(p0_runge)"
   ]
  },
  {
   "cell_type": "markdown",
   "metadata": {},
   "source": [
    "### Rk4"
   ]
  },
  {
   "cell_type": "markdown",
   "metadata": {},
   "source": [
    "The Euler method is a order 1 method while the Runge method is of order 2. A method of order $p$ has a global error bounded by $Ch_\\mathrm{max}^p$. To improve the numerical accuracy we can continue and define new methods of higher orders. The main method of order 3 is given by the [Heun scheme](https://en.wikipedia.org/wiki/Heun%27s_method). In this part, we will implement a method of order 4 simply called *rk4 method*. The Euler, Runge, Heun and rk4 methods are parts of what we call  explicit [Runge-Kutta](https://en.wikipedia.org/wiki/Runge–Kutta_methods) methods.\n",
    "\n",
    "**_Remark_.** In the following definition, we give only the first iteration: $x_1 = x_0 + h \\Phi(t_0, x_0, h)$.\n",
    "\n",
    "**_Definition._** Let $s$ be an integer (the number of *stages*). \n",
    "We call a *s-stages explicit Runge-Kutta* method for (IVP), a method defined by the scheme\n",
    "\n",
    "$$\n",
    "\\begin{equation}\\label{eq:Runge-Kutta}\n",
    "\\begin{array}{l}\n",
    "k_1=f(t_0,x_0)\\\\\n",
    "k_2=f(t_0+c_2h,x_0+ha_{21}k_1)\\\\\n",
    "\\vdots\\\\\n",
    "k_s=f(t_0+c_sh,x_0+h\\sum_{i=1}^{s-1}a_{si}k_i)\\\\\n",
    "x_1=x_0+h\\sum_{i=1}^{s}b_ik_i\n",
    "\\end{array}\n",
    "\\end{equation}\n",
    "$$\n",
    "\n",
    "where the coefficients $c_i$, $a_{ij}$ and $b_i$ are constants.\n",
    "\n",
    "**_Assumptions._** We introduce $c_1=0$ and assume that $c_i=\\sum_{j=1}^{i-1}a_{ij}$ for $i=2,\\ldots,s$.\n",
    "\n",
    "A Runge-Kutta method is represented in practice by its *Butcher table*:\n",
    "\n",
    "$$\n",
    "\\begin{array}{c|ccccc}\n",
    "c_1 & & & & &\\\\\n",
    "c_2 & a_{21} & & & & \\\\\n",
    "c_3 & a_{31} & a_{32} & & &\\\\\n",
    "\\vdots & \\vdots & \\vdots & \\ddots & & \\\\ \n",
    "c_s & a_{s1} & a_{s2} & \\ldots & a_{ss-1} &    \\\\ \\hline\n",
    "    & b_1    & b_2    & \\ldots & b_{s-1}  & b_s\\\\\n",
    "\\end{array}\n",
    "$$\n",
    "\n",
    "We give the following Butcher tables:\n",
    "\n",
    "$$\n",
    "\\begin{array}[t]{cccc}\n",
    "\\begin{array}{c}\n",
    "\\\\ \\\\ \\\\\n",
    "\\begin{array}{c|c}\n",
    "0 &   \\\\\\hline\n",
    "& 1\n",
    "\\end{array}\n",
    "\\end{array}\n",
    "& \n",
    "\\begin{array}{c}\n",
    "\\\\ \\\\\n",
    "\\begin{array}{c|cc}\n",
    "0 &  &\\\\\n",
    "1/2 & 1/2 &\\\\ \\hline\n",
    " & 0 & 1\n",
    "\\end{array}\n",
    "\\end{array}\n",
    "&\n",
    "\\begin{array}{c}\n",
    "\\\\\n",
    "& \\begin{array}{c|ccc}\n",
    "0 &  &  & \\\\\n",
    "1/3 & 1/3 & & \\\\\n",
    "2/3 & 0 & 2/3 & \\\\ \\hline\n",
    " & 1/4 & 0 & 3/4\n",
    "\\end{array}\n",
    "\\end{array}\n",
    "& \n",
    "\\begin{array}{c|cccc}\n",
    "0 &  &  & &\\\\\n",
    "1/2 & 1/2 & & &\\\\\n",
    "1/2 & 0 & 1/2 & &\\\\ \n",
    "1 &   0 & 0   & 1 &\\\\ \\hline\n",
    " & 1/6 & 2/6 & 2/6 & 1/6\n",
    "\\end{array} \\\\\n",
    "\\textrm{Euler (order 1)} & \\textrm{Runge (order 2)} & \\textrm{Heun (order 3)} & \\textrm{rk4 method (order 4)}\n",
    "\\end{array}\n",
    "$$\n"
   ]
  },
  {
   "cell_type": "markdown",
   "metadata": {},
   "source": [
    "<div class=\"alert alert-info\">\n",
    "\n",
    "**_Question 5:_**\n",
    "    \n",
    "Complete the code of `ode_rk4` (see the documentation of the function for details).\n",
    "      \n",
    "</div>"
   ]
  },
  {
   "cell_type": "code",
   "execution_count": 23,
   "metadata": {},
   "outputs": [
    {
     "name": "stdout",
     "output_type": "stream",
     "text": [
      " ||(cos(t), -sin(t)) - x|| =  [-6.6754946e-10  2.5492652e-08] \t t =  3.141592653589793\n"
     ]
    }
   ],
   "source": [
    "# ----------------------------\n",
    "# Answer 5 to complete here\n",
    "# ----------------------------\n",
    "#\n",
    "#   RK4 integrator\n",
    "#\n",
    "def ode_rk4(f, t0, x0, tf, N):\n",
    "    \"\"\"\n",
    "        Computes the approximated solution at time tf of \n",
    "\n",
    "            dx = f(t, x), x(t0) = x0\n",
    "            \n",
    "        with the rk4 scheme and uniform step size.\n",
    "        \n",
    "        Inputs: \n",
    "        \n",
    "            - f  : dynamics\n",
    "            - t0 : initial time, float\n",
    "            - x0 : initial condition, array\n",
    "            - tf : final time, float\n",
    "            - N  : number of steps, integer\n",
    "            \n",
    "        Outputs:\n",
    "        \n",
    "            - x  : the solution x(tf)    \n",
    "    \"\"\"\n",
    "    tspan = np.linspace(t0, tf, N+1)\n",
    "    h = (tf-t0)/N\n",
    "    x = x0\n",
    "    \n",
    "    ### TO COMPLETE\n",
    "    for i in range(N):\n",
    "        k1 = f(tspan[i], x);\n",
    "        k2 = f(tspan[i] + (1 / 2) * h, x + h * (1 / 2) * k1);\n",
    "        k3 = f(tspan[i] + (1 / 2) * h, x + h * (1 / 2) * k2);\n",
    "        k4 = f(tspan[i] + h, x + h * k3);\n",
    "        \n",
    "        x = x + h * ((1 / 6) * k1 + (1 / 3) * k2 + (1 / 3) * k3 + (1 / 6) * k4);\n",
    "    ###\n",
    "    \n",
    "    return x\n",
    "\n",
    "# Test of the RK4 integrator\n",
    "# We have x(t) = (cos(t), -sin(t))\n",
    "t = np.pi\n",
    "x = ode_rk4(lambda t, x: np.array([x[1], -x[0]]), 0.0, np.array([1.0, 0.0]), t, 100)\n",
    "print(' ||(cos(t), -sin(t)) - x|| = ', np.array([np.cos(t), -np.sin(t)])-x, \\\n",
    "      '\\t t = ', t)"
   ]
  },
  {
   "cell_type": "code",
   "execution_count": 24,
   "metadata": {},
   "outputs": [],
   "source": [
    "# Shooting function with rk4 method\n",
    "def shoot_rk4(p0):\n",
    "    n  = dimx\n",
    "    z0 = np.hstack((x0, p0))\n",
    "    zf = ode_rk4(hvfun, t0, z0, tf, Nsteps)\n",
    "    xf = zf[0:n]\n",
    "    s  = xf - xf_target\n",
    "    return s"
   ]
  },
  {
   "cell_type": "code",
   "execution_count": 25,
   "metadata": {},
   "outputs": [
    {
     "ename": "NameError",
     "evalue": "name 'p2x2' is not defined",
     "output_type": "error",
     "traceback": [
      "\u001b[1;31m---------------------------------------------------------------------------\u001b[0m",
      "\u001b[1;31mNameError\u001b[0m                                 Traceback (most recent call last)",
      "\u001b[1;32m<ipython-input-25-b5d44dcac555>\u001b[0m in \u001b[0;36m<module>\u001b[1;34m\u001b[0m\n\u001b[0;32m      1\u001b[0m \u001b[1;31m# Resolution of the shooting function\u001b[0m\u001b[1;33m\u001b[0m\u001b[1;33m\u001b[0m\u001b[1;33m\u001b[0m\u001b[0m\n\u001b[0;32m      2\u001b[0m \u001b[0mp0_guess\u001b[0m \u001b[1;33m=\u001b[0m \u001b[0mnp\u001b[0m\u001b[1;33m.\u001b[0m\u001b[0marray\u001b[0m\u001b[1;33m(\u001b[0m\u001b[1;33m[\u001b[0m\u001b[1;36m0.1\u001b[0m\u001b[1;33m,\u001b[0m \u001b[1;36m0.1\u001b[0m\u001b[1;33m]\u001b[0m\u001b[1;33m)\u001b[0m\u001b[1;33m\u001b[0m\u001b[1;33m\u001b[0m\u001b[0m\n\u001b[1;32m----> 3\u001b[1;33m \u001b[0msol_rk4\u001b[0m \u001b[1;33m=\u001b[0m \u001b[0mnt\u001b[0m\u001b[1;33m.\u001b[0m\u001b[0mnle\u001b[0m\u001b[1;33m.\u001b[0m\u001b[0msolve\u001b[0m\u001b[1;33m(\u001b[0m\u001b[0mshoot_rk4\u001b[0m\u001b[1;33m,\u001b[0m \u001b[0mp0_guess\u001b[0m\u001b[1;33m)\u001b[0m\u001b[1;33m;\u001b[0m \u001b[0mp0_rk4\u001b[0m \u001b[1;33m=\u001b[0m \u001b[0msol_rk4\u001b[0m\u001b[1;33m.\u001b[0m\u001b[0mx\u001b[0m\u001b[1;33m\u001b[0m\u001b[1;33m\u001b[0m\u001b[0m\n\u001b[0m\u001b[0;32m      4\u001b[0m \u001b[1;33m\u001b[0m\u001b[0m\n\u001b[0;32m      5\u001b[0m \u001b[1;31m# we compare the solution with the one obtained with nutopy\u001b[0m\u001b[1;33m\u001b[0m\u001b[1;33m\u001b[0m\u001b[1;33m\u001b[0m\u001b[0m\n",
      "\u001b[1;32m~\\miniconda3\\envs\\ct\\lib\\site-packages\\nutopy\\nle.py\u001b[0m in \u001b[0;36msolve\u001b[1;34m(f, x0, df, options, callback, args, kwargs)\u001b[0m\n\u001b[0;32m    281\u001b[0m             [xsol, fsol, nfev, njev, flag, messageFortran] = mod_nlesolve.nlesolvepy( \\\n\u001b[0;32m    282\u001b[0m                 \u001b[0mmyfun\u001b[0m\u001b[1;33m,\u001b[0m \u001b[0mmyjac\u001b[0m\u001b[1;33m,\u001b[0m \u001b[0mx0\u001b[0m\u001b[1;33m,\u001b[0m \u001b[0mnp\u001b[0m\u001b[1;33m.\u001b[0m\u001b[0marray\u001b[0m\u001b[1;33m(\u001b[0m\u001b[1;33m[\u001b[0m\u001b[1;36m1.0\u001b[0m\u001b[1;33m]\u001b[0m\u001b[1;33m)\u001b[0m\u001b[1;33m,\u001b[0m \u001b[0mcallback_nle\u001b[0m\u001b[1;33m,\u001b[0m\u001b[0;31m \u001b[0m\u001b[0;31m \u001b[0m\u001b[0;31m\\\u001b[0m\u001b[1;33m\u001b[0m\u001b[1;33m\u001b[0m\u001b[0m\n\u001b[1;32m--> 283\u001b[1;33m                 dw, iw, [ord(c) for c in sw], lsw, n, 1, len(dw), len(iw), len(lsw), len(sw))\n\u001b[0m\u001b[0;32m    284\u001b[0m \u001b[1;33m\u001b[0m\u001b[0m\n\u001b[0;32m    285\u001b[0m         \u001b[1;32melse\u001b[0m\u001b[1;33m:\u001b[0m\u001b[1;33m\u001b[0m\u001b[1;33m\u001b[0m\u001b[0m\n",
      "\u001b[1;32m~\\miniconda3\\envs\\ct\\lib\\site-packages\\nutopy\\nle.py\u001b[0m in \u001b[0;36m<lambda>\u001b[1;34m(x)\u001b[0m\n\u001b[0;32m    249\u001b[0m             \u001b[0mmyjac\u001b[0m \u001b[1;33m=\u001b[0m \u001b[1;32mlambda\u001b[0m \u001b[0mx\u001b[0m\u001b[1;33m:\u001b[0m \u001b[0mdf\u001b[0m\u001b[1;33m(\u001b[0m\u001b[0mx\u001b[0m\u001b[1;33m,\u001b[0m \u001b[1;33m*\u001b[0m\u001b[0margs\u001b[0m\u001b[1;33m,\u001b[0m \u001b[1;33m**\u001b[0m\u001b[0mkwargs\u001b[0m\u001b[1;33m)\u001b[0m\u001b[1;33m\u001b[0m\u001b[1;33m\u001b[0m\u001b[0m\n\u001b[0;32m    250\u001b[0m \u001b[1;33m\u001b[0m\u001b[0m\n\u001b[1;32m--> 251\u001b[1;33m     \u001b[0mmyfun\u001b[0m \u001b[1;33m=\u001b[0m \u001b[1;32mlambda\u001b[0m \u001b[0mx\u001b[0m\u001b[1;33m:\u001b[0m \u001b[0mf\u001b[0m\u001b[1;33m(\u001b[0m\u001b[0mx\u001b[0m\u001b[1;33m,\u001b[0m \u001b[1;33m*\u001b[0m\u001b[0margs\u001b[0m\u001b[1;33m,\u001b[0m \u001b[1;33m**\u001b[0m\u001b[0mkwargs\u001b[0m\u001b[1;33m)\u001b[0m\u001b[1;33m\u001b[0m\u001b[1;33m\u001b[0m\u001b[0m\n\u001b[0m\u001b[0;32m    252\u001b[0m \u001b[1;33m\u001b[0m\u001b[0m\n\u001b[0;32m    253\u001b[0m     \u001b[1;32mif\u001b[0m \u001b[0mcallback\u001b[0m \u001b[1;32mis\u001b[0m \u001b[1;32mNone\u001b[0m\u001b[1;33m:\u001b[0m\u001b[1;33m\u001b[0m\u001b[1;33m\u001b[0m\u001b[0m\n",
      "\u001b[1;32m<ipython-input-24-6ba144574379>\u001b[0m in \u001b[0;36mshoot_rk4\u001b[1;34m(p0)\u001b[0m\n\u001b[0;32m      3\u001b[0m     \u001b[0mn\u001b[0m  \u001b[1;33m=\u001b[0m \u001b[0mdimx\u001b[0m\u001b[1;33m\u001b[0m\u001b[1;33m\u001b[0m\u001b[0m\n\u001b[0;32m      4\u001b[0m     \u001b[0mz0\u001b[0m \u001b[1;33m=\u001b[0m \u001b[0mnp\u001b[0m\u001b[1;33m.\u001b[0m\u001b[0mhstack\u001b[0m\u001b[1;33m(\u001b[0m\u001b[1;33m(\u001b[0m\u001b[0mx0\u001b[0m\u001b[1;33m,\u001b[0m \u001b[0mp0\u001b[0m\u001b[1;33m)\u001b[0m\u001b[1;33m)\u001b[0m\u001b[1;33m\u001b[0m\u001b[1;33m\u001b[0m\u001b[0m\n\u001b[1;32m----> 5\u001b[1;33m     \u001b[0mzf\u001b[0m \u001b[1;33m=\u001b[0m \u001b[0mode_rk4\u001b[0m\u001b[1;33m(\u001b[0m\u001b[0mhvfun\u001b[0m\u001b[1;33m,\u001b[0m \u001b[0mt0\u001b[0m\u001b[1;33m,\u001b[0m \u001b[0mz0\u001b[0m\u001b[1;33m,\u001b[0m \u001b[0mtf\u001b[0m\u001b[1;33m,\u001b[0m \u001b[0mNsteps\u001b[0m\u001b[1;33m)\u001b[0m\u001b[1;33m\u001b[0m\u001b[1;33m\u001b[0m\u001b[0m\n\u001b[0m\u001b[0;32m      6\u001b[0m     \u001b[0mxf\u001b[0m \u001b[1;33m=\u001b[0m \u001b[0mzf\u001b[0m\u001b[1;33m[\u001b[0m\u001b[1;36m0\u001b[0m\u001b[1;33m:\u001b[0m\u001b[0mn\u001b[0m\u001b[1;33m]\u001b[0m\u001b[1;33m\u001b[0m\u001b[1;33m\u001b[0m\u001b[0m\n\u001b[0;32m      7\u001b[0m     \u001b[0ms\u001b[0m  \u001b[1;33m=\u001b[0m \u001b[0mxf\u001b[0m \u001b[1;33m-\u001b[0m \u001b[0mxf_target\u001b[0m\u001b[1;33m\u001b[0m\u001b[1;33m\u001b[0m\u001b[0m\n",
      "\u001b[1;32m<ipython-input-23-e31f1a3355b8>\u001b[0m in \u001b[0;36mode_rk4\u001b[1;34m(f, t0, x0, tf, N)\u001b[0m\n\u001b[0;32m     31\u001b[0m     \u001b[1;31m### TO COMPLETE\u001b[0m\u001b[1;33m\u001b[0m\u001b[1;33m\u001b[0m\u001b[1;33m\u001b[0m\u001b[0m\n\u001b[0;32m     32\u001b[0m     \u001b[1;32mfor\u001b[0m \u001b[0mi\u001b[0m \u001b[1;32min\u001b[0m \u001b[0mrange\u001b[0m\u001b[1;33m(\u001b[0m\u001b[0mN\u001b[0m\u001b[1;33m)\u001b[0m\u001b[1;33m:\u001b[0m\u001b[1;33m\u001b[0m\u001b[1;33m\u001b[0m\u001b[0m\n\u001b[1;32m---> 33\u001b[1;33m         \u001b[0mk1\u001b[0m \u001b[1;33m=\u001b[0m \u001b[0mf\u001b[0m\u001b[1;33m(\u001b[0m\u001b[0mtspan\u001b[0m\u001b[1;33m[\u001b[0m\u001b[0mi\u001b[0m\u001b[1;33m]\u001b[0m\u001b[1;33m,\u001b[0m \u001b[0mx\u001b[0m\u001b[1;33m)\u001b[0m\u001b[1;33m;\u001b[0m\u001b[1;33m\u001b[0m\u001b[1;33m\u001b[0m\u001b[0m\n\u001b[0m\u001b[0;32m     34\u001b[0m         \u001b[0mk2\u001b[0m \u001b[1;33m=\u001b[0m \u001b[0mf\u001b[0m\u001b[1;33m(\u001b[0m\u001b[0mtspan\u001b[0m\u001b[1;33m[\u001b[0m\u001b[0mi\u001b[0m\u001b[1;33m]\u001b[0m \u001b[1;33m+\u001b[0m \u001b[1;33m(\u001b[0m\u001b[1;36m1\u001b[0m \u001b[1;33m/\u001b[0m \u001b[1;36m2\u001b[0m\u001b[1;33m)\u001b[0m \u001b[1;33m*\u001b[0m \u001b[0mh\u001b[0m\u001b[1;33m,\u001b[0m \u001b[0mx\u001b[0m \u001b[1;33m+\u001b[0m \u001b[0mh\u001b[0m \u001b[1;33m*\u001b[0m \u001b[1;33m(\u001b[0m\u001b[1;36m1\u001b[0m \u001b[1;33m/\u001b[0m \u001b[1;36m2\u001b[0m\u001b[1;33m)\u001b[0m \u001b[1;33m*\u001b[0m \u001b[0mk1\u001b[0m\u001b[1;33m)\u001b[0m\u001b[1;33m;\u001b[0m\u001b[1;33m\u001b[0m\u001b[1;33m\u001b[0m\u001b[0m\n\u001b[0;32m     35\u001b[0m         \u001b[0mk3\u001b[0m \u001b[1;33m=\u001b[0m \u001b[0mf\u001b[0m\u001b[1;33m(\u001b[0m\u001b[0mtspan\u001b[0m\u001b[1;33m[\u001b[0m\u001b[0mi\u001b[0m\u001b[1;33m]\u001b[0m \u001b[1;33m+\u001b[0m \u001b[1;33m(\u001b[0m\u001b[1;36m1\u001b[0m \u001b[1;33m/\u001b[0m \u001b[1;36m2\u001b[0m\u001b[1;33m)\u001b[0m \u001b[1;33m*\u001b[0m \u001b[0mh\u001b[0m\u001b[1;33m,\u001b[0m \u001b[0mx\u001b[0m \u001b[1;33m+\u001b[0m \u001b[0mh\u001b[0m \u001b[1;33m*\u001b[0m \u001b[1;33m(\u001b[0m\u001b[1;36m1\u001b[0m \u001b[1;33m/\u001b[0m \u001b[1;36m2\u001b[0m\u001b[1;33m)\u001b[0m \u001b[1;33m*\u001b[0m \u001b[0mk2\u001b[0m\u001b[1;33m)\u001b[0m\u001b[1;33m;\u001b[0m\u001b[1;33m\u001b[0m\u001b[1;33m\u001b[0m\u001b[0m\n",
      "\u001b[1;32m<ipython-input-10-f86e4f07545d>\u001b[0m in \u001b[0;36mhvfun\u001b[1;34m(t, z)\u001b[0m\n\u001b[0;32m     12\u001b[0m     \u001b[0mp1\u001b[0m \u001b[1;33m=\u001b[0m \u001b[0mp\u001b[0m\u001b[1;33m[\u001b[0m\u001b[1;36m0\u001b[0m\u001b[1;33m]\u001b[0m\u001b[1;33m\u001b[0m\u001b[1;33m\u001b[0m\u001b[0m\n\u001b[0;32m     13\u001b[0m     \u001b[0mp2\u001b[0m \u001b[1;33m=\u001b[0m \u001b[0mp\u001b[0m\u001b[1;33m[\u001b[0m\u001b[1;36m1\u001b[0m\u001b[1;33m]\u001b[0m\u001b[1;33m\u001b[0m\u001b[1;33m\u001b[0m\u001b[0m\n\u001b[1;32m---> 14\u001b[1;33m     \u001b[0mhv\u001b[0m \u001b[1;33m=\u001b[0m \u001b[0mnp\u001b[0m\u001b[1;33m.\u001b[0m\u001b[0marray\u001b[0m\u001b[1;33m(\u001b[0m\u001b[1;33m[\u001b[0m\u001b[0mx2\u001b[0m\u001b[1;33m,\u001b[0m \u001b[1;33m-\u001b[0m\u001b[0mmu\u001b[0m\u001b[1;33m*\u001b[0m\u001b[0mx2\u001b[0m\u001b[1;33m**\u001b[0m\u001b[1;36m2\u001b[0m \u001b[1;33m+\u001b[0m \u001b[1;36m.5\u001b[0m\u001b[1;33m*\u001b[0m\u001b[0mp2\u001b[0m\u001b[1;33m,\u001b[0m \u001b[1;36m0\u001b[0m\u001b[1;33m,\u001b[0m \u001b[1;33m-\u001b[0m\u001b[0mp1\u001b[0m \u001b[1;33m+\u001b[0m \u001b[1;36m2\u001b[0m\u001b[1;33m*\u001b[0m\u001b[0mmu\u001b[0m\u001b[1;33m*\u001b[0m\u001b[0mp2x2\u001b[0m\u001b[1;33m]\u001b[0m\u001b[1;33m)\u001b[0m\u001b[1;33m\u001b[0m\u001b[1;33m\u001b[0m\u001b[0m\n\u001b[0m\u001b[0;32m     15\u001b[0m     \u001b[1;31m#hv = np.array([0.0, 0.0, 0.0, 0.0])\u001b[0m\u001b[1;33m\u001b[0m\u001b[1;33m\u001b[0m\u001b[1;33m\u001b[0m\u001b[0m\n\u001b[0;32m     16\u001b[0m     \u001b[1;32mreturn\u001b[0m \u001b[0mhv\u001b[0m\u001b[1;33m\u001b[0m\u001b[1;33m\u001b[0m\u001b[0m\n",
      "\u001b[1;31mNameError\u001b[0m: name 'p2x2' is not defined"
     ]
    }
   ],
   "source": [
    "# Resolution of the shooting function\n",
    "p0_guess = np.array([0.1, 0.1])\n",
    "sol_rk4 = nt.nle.solve(shoot_rk4, p0_guess); p0_rk4 = sol_rk4.x\n",
    "\n",
    "# we compare the solution with the one obtained with nutopy\n",
    "# we call the shooting function from nutopy\n",
    "print(' p0_rk4               =', p0_rk4, \\\n",
    "      '\\n ||p0_rk4-p0_nutopy|| =', np.linalg.norm(p0_rk4-p0_nutopy), \\\n",
    "      '\\n shoot(p0_rk4)        =', shoot(p0_rk4))"
   ]
  },
  {
   "cell_type": "code",
   "execution_count": 21,
   "metadata": {},
   "outputs": [
    {
     "data": {
      "image/png": "[encoded data removed]",
      "text/plain": [
       "<Figure size 900x600 with 4 Axes>"
      ]
     },
     "metadata": {
      "needs_background": "light"
     },
     "output_type": "display_data"
    }
   ],
   "source": [
    "# Plot solution\n",
    "plotSolution(p0_rk4)"
   ]
  },
  {
   "cell_type": "markdown",
   "metadata": {},
   "source": [
    "## Step 3: Replacing the Newton solver"
   ]
  },
  {
   "cell_type": "markdown",
   "metadata": {},
   "source": [
    "In this part, we define a Newton method to solve the shooting equations. In the description of the shooting equations, we use the rk4 integrator to compute the flow of the Hamiltonian system."
   ]
  },
  {
   "cell_type": "markdown",
   "metadata": {},
   "source": [
    "### Preliminaries\n",
    "\n",
    "The following methods may be used to print information during the interations of the Newton solver."
   ]
  },
  {
   "cell_type": "code",
   "execution_count": 26,
   "metadata": {},
   "outputs": [],
   "source": [
    "def static_vars(**kwargs):\n",
    "    def decorate(func):\n",
    "        for k in kwargs:\n",
    "            setattr(func, k, kwargs[k])\n",
    "        return func\n",
    "    return decorate\n",
    "\n",
    "@static_vars(counter=0)\n",
    "def callbackPrint(x,f):\n",
    "    if(callbackPrint.counter==0):\n",
    "        print('\\n     Calls  |f(x)|                 |x|\\n ')\n",
    "    print('{0:10}'.format(callbackPrint.counter+1) + \\\n",
    "            '{0:23.15e}'.format(np.linalg.norm(f)) + \\\n",
    "            '{0:23.15e}'.format(np.linalg.norm(x)))\n",
    "    callbackPrint.counter += 1"
   ]
  },
  {
   "cell_type": "markdown",
   "metadata": {},
   "source": [
    "### Coding the Newton solver"
   ]
  },
  {
   "cell_type": "markdown",
   "metadata": {},
   "source": [
    "Let us recall the [Newton method](https://en.wikipedia.org/wiki/Newton%27s_method). Let us consider the nonlinear system of equations\n",
    "\n",
    "$$\n",
    "    f(x) = 0_{\\mathrm{R}^n},\n",
    "$$\n",
    "\n",
    "with $f : \\Omega \\subset \\mathrm{R}^n \\to \\mathrm{R}^n$, differentiable on the open set $\\Omega$. The Newton method consists in solving iteratively a linear approximation of the system of equations. Let $k$ be the current iteration and $x^{(k)}$ the current iterate. The linear approximation reads\n",
    "\n",
    "$$\n",
    "    f(x^{(k)} + d) = f(x^{(k)}) + J_f(x^{(k)}) d + o(||d||), \\quad d \\in \\mathrm{R}^n,\n",
    "$$\n",
    "\n",
    "where $J_f$ is the Jacobian of $f$ and where we have used the [Landau notation](https://en.wikipedia.org/wiki/Big_O_notation). Let us set\n",
    "\n",
    "$$\n",
    "    f_k(d) = f(x^{(k)}) + J_f(x^{(k)}) d.\n",
    "$$\n",
    "\n",
    "We update the iterate as follows:\n",
    "$\n",
    "    x^{(k+1)} = x^{(k)} + d^{(k)},\n",
    "$\n",
    "where $d^{(k)}$ is the solution of \n",
    "$\n",
    "    f_k(d) = 0.\n",
    "$\n",
    "\n",
    "This system being linear, if $J_f(x^{(k)})$ is invertible, then the next iterate is given by\n",
    "\n",
    "$$\n",
    "    x^{(k+1)} = x^{(k)} - \\left( J_f(x^{(k)}) \\right)^{-1} f(x^{(k)}).\n",
    "$$"
   ]
  },
  {
   "cell_type": "markdown",
   "metadata": {},
   "source": [
    "<div class=\"alert alert-info\">\n",
    "\n",
    "**_Question 6:_**\n",
    "    \n",
    "Complete the code of `newton` (see the documentation of the function for details).\n",
    "      \n",
    "</div>"
   ]
  },
  {
   "cell_type": "code",
   "execution_count": 23,
   "metadata": {},
   "outputs": [],
   "source": [
    "# ----------------------------\n",
    "# Answer 6 to complete here\n",
    "# ----------------------------\n",
    "#\n",
    "# Newton solver\n",
    "#\n",
    "def newton(f, jf, x0):\n",
    "    '''\n",
    "        Solve f(x) = 0, with a Newton method, starting from the iterate x0.\n",
    "        \n",
    "        Usage:\n",
    "        \n",
    "            x, y, flag, it = newton(f, jf, x0)\n",
    "        \n",
    "        Newton iteration:\n",
    "        \n",
    "            x_{k+1} = x_k - d_k, d_k solution of f'(x_k) d = - f(x_k)\n",
    "        \n",
    "        Inputs: \n",
    "        \n",
    "            - f  : function f(x)\n",
    "            - jf : Jacobian of f\n",
    "            - x0 : initial iterate\n",
    "            \n",
    "        Returns:\n",
    "        \n",
    "            - x    : solution of f(x)=0 if convergence, last iterate otherwise\n",
    "            - y    : f(x)\n",
    "            - flag : -1 if itermax is reached,\n",
    "                      1 if ||d|| < tolx * max(||x||, 1) at the last iterate\n",
    "            - it   : number of iterations\n",
    "        \n",
    "        Numpy use:\n",
    "        \n",
    "            - linear.solve to solve Ax=b.\n",
    "            - linalg.norm to compute the norm of a vector\n",
    "            - maximum\n",
    "        \n",
    "        Remark: you can use callbackPrint to plot infos during the iterations.\n",
    "        Do not forget to reset the counter: callbackPrint.counter=0 before return.\n",
    "        \n",
    "    '''\n",
    "    tolx    = 1e-6\n",
    "    itermax = 50\n",
    "    \n",
    "    i    = 0\n",
    "    x    = x0\n",
    "    flag = 0\n",
    "    \n",
    "    while flag == 0:\n",
    "    \n",
    "        # get f(x) and Jf(x)\n",
    "        A = 0.0 ### TO COMPLETE\n",
    "        b = 0.0 ### TO COMPLETE\n",
    "        \n",
    "        # print\n",
    "        callbackPrint(x, b)\n",
    "        \n",
    "        # solve the linear system\n",
    "        d = 0.0 ### TO COMPLETE\n",
    "        \n",
    "        # update the iterate\n",
    "        # x = 0.0 ### TO COMPLETE\n",
    "        \n",
    "        # test stop criterion\n",
    "        i = i + 1 \n",
    "        if(i==itermax):\n",
    "            flag = -1\n",
    "        ### TO COMPLETE\n",
    "        # ...\n",
    "        ### END TO COMPLETE\n",
    "   \n",
    "    # print\n",
    "    b = f(x)\n",
    "    callbackPrint(x, b)\n",
    "    \n",
    "    # reset counter\n",
    "    callbackPrint.counter=0\n",
    "    \n",
    "    # return\n",
    "    return x, b, flag, i"
   ]
  },
  {
   "cell_type": "code",
   "execution_count": 24,
   "metadata": {},
   "outputs": [
    {
     "name": "stdout",
     "output_type": "stream",
     "text": [
      "\n",
      "     Calls  |f(x)|                 |x|\n",
      " \n",
      "         1  0.000000000000000e+00  1.414213562373095e+00\n",
      "         2  0.000000000000000e+00  1.414213562373095e+00\n",
      "         3  0.000000000000000e+00  1.414213562373095e+00\n",
      "         4  0.000000000000000e+00  1.414213562373095e+00\n",
      "         5  0.000000000000000e+00  1.414213562373095e+00\n",
      "         6  0.000000000000000e+00  1.414213562373095e+00\n",
      "         7  0.000000000000000e+00  1.414213562373095e+00\n",
      "         8  0.000000000000000e+00  1.414213562373095e+00\n",
      "         9  0.000000000000000e+00  1.414213562373095e+00\n",
      "        10  0.000000000000000e+00  1.414213562373095e+00\n",
      "        11  0.000000000000000e+00  1.414213562373095e+00\n",
      "        12  0.000000000000000e+00  1.414213562373095e+00\n",
      "        13  0.000000000000000e+00  1.414213562373095e+00\n",
      "        14  0.000000000000000e+00  1.414213562373095e+00\n",
      "        15  0.000000000000000e+00  1.414213562373095e+00\n",
      "        16  0.000000000000000e+00  1.414213562373095e+00\n",
      "        17  0.000000000000000e+00  1.414213562373095e+00\n",
      "        18  0.000000000000000e+00  1.414213562373095e+00\n",
      "        19  0.000000000000000e+00  1.414213562373095e+00\n",
      "        20  0.000000000000000e+00  1.414213562373095e+00\n",
      "        21  0.000000000000000e+00  1.414213562373095e+00\n",
      "        22  0.000000000000000e+00  1.414213562373095e+00\n",
      "        23  0.000000000000000e+00  1.414213562373095e+00\n",
      "        24  0.000000000000000e+00  1.414213562373095e+00\n",
      "        25  0.000000000000000e+00  1.414213562373095e+00\n",
      "        26  0.000000000000000e+00  1.414213562373095e+00\n",
      "        27  0.000000000000000e+00  1.414213562373095e+00\n",
      "        28  0.000000000000000e+00  1.414213562373095e+00\n",
      "        29  0.000000000000000e+00  1.414213562373095e+00\n",
      "        30  0.000000000000000e+00  1.414213562373095e+00\n",
      "        31  0.000000000000000e+00  1.414213562373095e+00\n",
      "        32  0.000000000000000e+00  1.414213562373095e+00\n",
      "        33  0.000000000000000e+00  1.414213562373095e+00\n",
      "        34  0.000000000000000e+00  1.414213562373095e+00\n",
      "        35  0.000000000000000e+00  1.414213562373095e+00\n",
      "        36  0.000000000000000e+00  1.414213562373095e+00\n",
      "        37  0.000000000000000e+00  1.414213562373095e+00\n",
      "        38  0.000000000000000e+00  1.414213562373095e+00\n",
      "        39  0.000000000000000e+00  1.414213562373095e+00\n",
      "        40  0.000000000000000e+00  1.414213562373095e+00\n",
      "        41  0.000000000000000e+00  1.414213562373095e+00\n",
      "        42  0.000000000000000e+00  1.414213562373095e+00\n",
      "        43  0.000000000000000e+00  1.414213562373095e+00\n",
      "        44  0.000000000000000e+00  1.414213562373095e+00\n",
      "        45  0.000000000000000e+00  1.414213562373095e+00\n",
      "        46  0.000000000000000e+00  1.414213562373095e+00\n",
      "        47  0.000000000000000e+00  1.414213562373095e+00\n",
      "        48  0.000000000000000e+00  1.414213562373095e+00\n",
      "        49  0.000000000000000e+00  1.414213562373095e+00\n",
      "        50  0.000000000000000e+00  1.414213562373095e+00\n",
      "        51  1.000000000000000e+00  1.414213562373095e+00\n",
      "(array([1., 1.]), array([0.54030231, 0.84147098]), -1, 50)\n"
     ]
    }
   ],
   "source": [
    "# Test on the functions cosinus and sinus\n",
    "print(newton(lambda x: np.array([np.cos(x[0]), np.sin(x[1])]),   \\\n",
    "             lambda x: np.array([[-np.sin(x[0]), 0], [0, np.cos(x[1])]]), \\\n",
    "             np.array([1.0, 1.0])))"
   ]
  },
  {
   "cell_type": "markdown",
   "metadata": {},
   "source": [
    "### Solve the shooting equations"
   ]
  },
  {
   "cell_type": "code",
   "execution_count": 25,
   "metadata": {},
   "outputs": [],
   "source": [
    "# Jacobian of the shooting function\n",
    "def jshoot(p0):\n",
    "    \"\"\"jac = jshoot(p0)\n",
    "\n",
    "    Jacobian of shooting function wrt. p0\n",
    "    \"\"\"\n",
    "    n = dimx\n",
    "    dp0 = np.eye(n)\n",
    "    jac = np.zeros((n, n))\n",
    "\n",
    "    for i in range(0, n):\n",
    "        _, jac[:, i] = shoot((p0, dp0[i, :]))\n",
    "\n",
    "    return jac"
   ]
  },
  {
   "cell_type": "code",
   "execution_count": 26,
   "metadata": {},
   "outputs": [
    {
     "name": "stdout",
     "output_type": "stream",
     "text": [
      "\n",
      "     Calls  |f(x)|                 |x|\n",
      " \n",
      "         1  0.000000000000000e+00  1.414213562373095e-01\n",
      "         2  0.000000000000000e+00  1.414213562373095e-01\n",
      "         3  0.000000000000000e+00  1.414213562373095e-01\n",
      "         4  0.000000000000000e+00  1.414213562373095e-01\n",
      "         5  0.000000000000000e+00  1.414213562373095e-01\n",
      "         6  0.000000000000000e+00  1.414213562373095e-01\n",
      "         7  0.000000000000000e+00  1.414213562373095e-01\n",
      "         8  0.000000000000000e+00  1.414213562373095e-01\n",
      "         9  0.000000000000000e+00  1.414213562373095e-01\n",
      "        10  0.000000000000000e+00  1.414213562373095e-01\n",
      "        11  0.000000000000000e+00  1.414213562373095e-01\n",
      "        12  0.000000000000000e+00  1.414213562373095e-01\n",
      "        13  0.000000000000000e+00  1.414213562373095e-01\n",
      "        14  0.000000000000000e+00  1.414213562373095e-01\n",
      "        15  0.000000000000000e+00  1.414213562373095e-01\n",
      "        16  0.000000000000000e+00  1.414213562373095e-01\n",
      "        17  0.000000000000000e+00  1.414213562373095e-01\n",
      "        18  0.000000000000000e+00  1.414213562373095e-01\n",
      "        19  0.000000000000000e+00  1.414213562373095e-01\n",
      "        20  0.000000000000000e+00  1.414213562373095e-01\n",
      "        21  0.000000000000000e+00  1.414213562373095e-01\n",
      "        22  0.000000000000000e+00  1.414213562373095e-01\n",
      "        23  0.000000000000000e+00  1.414213562373095e-01\n",
      "        24  0.000000000000000e+00  1.414213562373095e-01\n",
      "        25  0.000000000000000e+00  1.414213562373095e-01\n",
      "        26  0.000000000000000e+00  1.414213562373095e-01\n",
      "        27  0.000000000000000e+00  1.414213562373095e-01\n",
      "        28  0.000000000000000e+00  1.414213562373095e-01\n",
      "        29  0.000000000000000e+00  1.414213562373095e-01\n",
      "        30  0.000000000000000e+00  1.414213562373095e-01\n",
      "        31  0.000000000000000e+00  1.414213562373095e-01\n",
      "        32  0.000000000000000e+00  1.414213562373095e-01\n",
      "        33  0.000000000000000e+00  1.414213562373095e-01\n",
      "        34  0.000000000000000e+00  1.414213562373095e-01\n",
      "        35  0.000000000000000e+00  1.414213562373095e-01\n",
      "        36  0.000000000000000e+00  1.414213562373095e-01\n",
      "        37  0.000000000000000e+00  1.414213562373095e-01\n",
      "        38  0.000000000000000e+00  1.414213562373095e-01\n",
      "        39  0.000000000000000e+00  1.414213562373095e-01\n",
      "        40  0.000000000000000e+00  1.414213562373095e-01\n",
      "        41  0.000000000000000e+00  1.414213562373095e-01\n",
      "        42  0.000000000000000e+00  1.414213562373095e-01\n",
      "        43  0.000000000000000e+00  1.414213562373095e-01\n",
      "        44  0.000000000000000e+00  1.414213562373095e-01\n",
      "        45  0.000000000000000e+00  1.414213562373095e-01\n",
      "        46  0.000000000000000e+00  1.414213562373095e-01\n",
      "        47  0.000000000000000e+00  1.414213562373095e-01\n",
      "        48  0.000000000000000e+00  1.414213562373095e-01\n",
      "        49  0.000000000000000e+00  1.414213562373095e-01\n",
      "        50  0.000000000000000e+00  1.414213562373095e-01\n",
      "        51  2.000000000000000e+00  1.414213562373095e-01\n",
      "\n",
      " p0_sol     = [0.1 0.1] \n",
      " shoot      = [-1.96666508  0.05000781] \n",
      " flag       = -1 \n",
      " iterations = 50\n"
     ]
    }
   ],
   "source": [
    "# Resolution of the shooting function\n",
    "p0_guess = np.array([0.1, 0.1])\n",
    "p0_sol, S_sol, flag, it = newton(shoot_rk4, jshoot, p0_guess)\n",
    "print('\\n p0_sol     =', p0_sol, \\\n",
    "      '\\n shoot      =', shoot(p0_sol), \\\n",
    "      '\\n flag       =', flag, \\\n",
    "      '\\n iterations =', it)"
   ]
  },
  {
   "cell_type": "code",
   "execution_count": 27,
   "metadata": {},
   "outputs": [
    {
     "data": {
      "image/png": "[encoded data removed]",
      "text/plain": [
       "<Figure size 900x600 with 4 Axes>"
      ]
     },
     "metadata": {
      "needs_background": "light"
     },
     "output_type": "display_data"
    }
   ],
   "source": [
    "# Plot solution\n",
    "plotSolution(p0_sol)"
   ]
  }
 ],
 "metadata": {
  "kernelspec": {
   "display_name": "Python 3",
   "language": "python",
   "name": "python3"
  },
  "language_info": {
   "codemirror_mode": {
    "name": "ipython",
    "version": 3
   },
   "file_extension": ".py",
   "mimetype": "text/x-python",
   "name": "python",
   "nbconvert_exporter": "python",
   "pygments_lexer": "ipython3",
   "version": "3.7.10"
  }
 },
 "nbformat": 4,
 "nbformat_minor": 4
}
