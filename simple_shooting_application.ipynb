{
 "cells": [
  {
   "cell_type": "markdown",
   "metadata": {},
   "source": [
    "# Application of the simple shooting method"
   ]
  },
  {
   "cell_type": "markdown",
   "metadata": {},
   "source": [
    "* Author: Olivier Cots\n",
    "* Date: March 2021\n",
    "\n",
    "------"
   ]
  },
  {
   "cell_type": "markdown",
   "metadata": {},
   "source": [
    "## The energy min 2D integrator problem with friction and transversality conditions"
   ]
  },
  {
   "cell_type": "markdown",
   "metadata": {},
   "source": [
    "Consider the following optimal control problem (Lagrange cost, fixed final time):\n",
    "\n",
    "$$ \n",
    "    \\left\\{ \n",
    "    \\begin{array}{l}\n",
    "        \\displaystyle J(u)  := \\displaystyle \\frac{1}{2} \\int_0^{1} u^2(t) \\, \\mathrm{d}t \\longrightarrow \\min \\\\[1.0em]\n",
    "        \\dot{x}(t) = (x_2(t), -\\mu x_2^2(t) + u(t)), \\quad  u(t) \\in \\mathrm{R}, \\quad t \\in [0, 1] \\text{ a.e.},    \\\\[1.0em]\n",
    "        x(0) = (-1, 0), \\quad c(x(1)) = 0.\n",
    "    \\end{array}\n",
    "    \\right. \n",
    "$$\n",
    "\n",
    "We will consider two cases:\n",
    "\n",
    "$$\n",
    "a)~ c(x) = x - (1, 0), \\quad b)~ c(x) = x_1 - 1.\n",
    "$$\n",
    "\n",
    "We consider the normal case ($p^0 = -1$), so the pseudo-Hamiltonian of the problem is\n",
    "\n",
    "$$\n",
    "    H(x,p,u) = p_1 x_2 + p_2 (-\\mu x_2^2 + u) - \\frac{1}{2} u^2.\n",
    "$$\n",
    "\n",
    "We denote by $t_0$, $t_f$ and $x_0$ the initial time, final time and initial condition.\n"
   ]
  },
  {
   "cell_type": "markdown",
   "metadata": {},
   "source": [
    "<div class=\"alert alert-warning\">\n",
    "\n",
    "**Goal**\n",
    "\n",
    "Solve the cases a) and b) of this optimal control problem by simple shooting with the nutopy package.\n",
    "    \n",
    "</div>"
   ]
  },
  {
   "cell_type": "markdown",
   "metadata": {},
   "source": [
    "**_Remark._** \n",
    "* See this [page](https://ct.gitlabpages.inria.fr/gallery/shooting_tutorials/simple_shooting_general.html) for a general presentation of the simple shooting method with the use of nutopy package. \n",
    "* See this [page](https://ct.gitlabpages.inria.fr/gallery/smooth_case/smooth_case.html) for a more detailed use of nutopy package on a smooth example. \n",
    "* See this [page](https://ct.gitlabpages.inria.fr/nutopy/) for the documention of nutopy package."
   ]
  },
  {
   "cell_type": "markdown",
   "metadata": {},
   "source": [
    "## Preliminaries"
   ]
  },
  {
   "cell_type": "code",
   "execution_count": 1,
   "metadata": {},
   "outputs": [],
   "source": [
    "# import packages\n",
    "import nutopy as nt\n",
    "import nutopy.tools as tools\n",
    "import nutopy.ocp as ocp\n",
    "import numpy as np\n",
    "import matplotlib.pyplot as plt\n",
    "#plt.rcParams['figure.figsize'] = [10, 5]\n",
    "plt.rcParams['figure.dpi'] = 150"
   ]
  },
  {
   "cell_type": "code",
   "execution_count": 2,
   "metadata": {},
   "outputs": [],
   "source": [
    "# parameters\n",
    "t0          = 0.0                    # initial time\n",
    "tf          = 1.0                    # final time\n",
    "x0          = np.array([-1.0, 0.0])  # initial condition\n",
    "xf_target_a = np.array([1.0, 0.0])   # final target for the case a\n",
    "xf_target_b = np.array([1.0])        # final target for the case b\n",
    "mu          = 0.5                    # parameter mu"
   ]
  },
  {
   "cell_type": "markdown",
   "metadata": {},
   "source": [
    "## Questions"
   ]
  },
  {
   "cell_type": "markdown",
   "metadata": {},
   "source": [
    "<div class=\"alert alert-info\">\n",
    "\n",
    "**_Question 1:_**\n",
    "    \n",
    "Write the maximizing control in feeback form $u[p]$.\n",
    "      \n",
    "</div>"
   ]
  },
  {
   "cell_type": "markdown",
   "metadata": {},
   "source": [
    "**Answer 1:** \\\n",
    " The maximization condition:\n",
    " $$\n",
    " H(t) = max_{w \\in R} H(x(t), p(t), w)\n",
    " $$\n",
    " is equivalent here to the condition\n",
    " $$\n",
    " \\nabla_{u} H(t) = 0\n",
    " $$\n",
    " so \n",
    " $$\n",
    "u[p] = p_2\n",
    " $$"
   ]
  },
  {
   "cell_type": "markdown",
   "metadata": {},
   "source": [
    "<div class=\"alert alert-info\">\n",
    "\n",
    "**_Question 2:_**\n",
    "    \n",
    "Complete the code of `ufun` coding the control in feedback form.\n",
    "      \n",
    "</div>"
   ]
  },
  {
   "cell_type": "code",
   "execution_count": 3,
   "metadata": {},
   "outputs": [],
   "source": [
    "# ----------------------------\n",
    "# Answer 2 to complete here\n",
    "# ----------------------------\n",
    "#\n",
    "# Control in feedback form: used for plotting\n",
    "#\n",
    "@tools.vectorize(vvars=(1,))\n",
    "def ufun(p):\n",
    "    u = p[1]\n",
    "    return u"
   ]
  },
  {
   "cell_type": "markdown",
   "metadata": {},
   "source": [
    "<div class=\"alert alert-info\">\n",
    "\n",
    "**_Question 3:_**\n",
    "    \n",
    "Write the maximized Hamiltonian and the adjoint equation.\n",
    "    \n",
    "</div>"
   ]
  },
  {
   "cell_type": "markdown",
   "metadata": {},
   "source": [
    "**Answer 3:** \\\n",
    "$$\n",
    "h(x, p) = H(x, p, u[p]) = p_1 x_2 - \\mu p_2 x_2^{2} + \\frac{1}{2} p_2^{2}\n",
    "$$\n",
    "The PMP gives \n",
    "$$\n",
    "\\dot{x}(t) = \\nabla_{p} H(t)\n",
    "$$\n",
    "\n",
    "$$\n",
    "\\dot{p}(t) = - \\nabla_{x} H(t)\n",
    "$$"
   ]
  },
  {
   "cell_type": "markdown",
   "metadata": {},
   "source": [
    "<div class=\"alert alert-info\">\n",
    "\n",
    "**_Question 4:_**\n",
    "    \n",
    "Complete the code of `hfun` and `dhfun` coding the maximized Hamiltonian and its derivative.\n",
    "      \n",
    "</div>"
   ]
  },
  {
   "cell_type": "markdown",
   "metadata": {},
   "source": [
    "**_Remark._** Let us denote by $h(t, x, p) = H(x, p, u[p])$ the maximized Hamiltonian. The function `dhfun` codes:\n",
    "\n",
    "$$\n",
    "    \\frac{\\partial h}{\\partial x}(t, x, p) \\cdot \\delta x + \\frac{\\partial h}{\\partial p}(t, x, p) \\cdot \\delta p.\n",
    "$$"
   ]
  },
  {
   "cell_type": "markdown",
   "metadata": {},
   "source": [
    "The (normal and maximized) Hamiltonian is straightforwardly implemented in `hfun`. For further needs, we have to implement its first and second derivatives _wrt._ to state ($x$) and costate ($p$). This derivatives, evaluated against first and second order increments are implemented by `dhfun` and `d2hfun`, respectively."
   ]
  },
  {
   "cell_type": "code",
   "execution_count": 4,
   "metadata": {},
   "outputs": [],
   "source": [
    "# ----------------------------\n",
    "# Answer 4 to complete here\n",
    "# ----------------------------\n",
    "#\n",
    "# Maximized Hamiltonian with its derivative\n",
    "#\n",
    "def hfun(t, x, p):\n",
    "    '''\n",
    "        Hamiltonian: \n",
    "        \n",
    "            h = hfun(t, x, p, mu)\n",
    "    \n",
    "        Inputs: \n",
    "        \n",
    "            - t  : time, float\n",
    "            - x  : state, array\n",
    "            - p  : co-state, array\n",
    "            - mu : friction parameter, float\n",
    "            \n",
    "        Outputs:\n",
    "        \n",
    "            - h  : Hamiltonian, float\n",
    "        \n",
    "    '''\n",
    "    x2 = x[1]\n",
    "    p1 = p[0]\n",
    "    p2 = p[1]\n",
    "    h  = p1*x2-mu*x2**2*p2+0.5*p2**2  \n",
    "    return h\n",
    "\n",
    "def dhfun(t, x, dx, p, dp):\n",
    "    '''\n",
    "        Derivative of the Hamiltonian: \n",
    "        \n",
    "            hd = dhfun(t, x, dx, p, dp, mu)\n",
    "    \n",
    "        Inputs: \n",
    "        \n",
    "            - t  : time, float\n",
    "            - x  : state, array\n",
    "            - dx : state increment, array\n",
    "            - p  : co-state, array\n",
    "            - dp : co-state increment, array\n",
    "            - mu : friction parameter, float\n",
    "            \n",
    "        Outputs:\n",
    "        \n",
    "            - hd : derivative of the Hamiltonian, float\n",
    "        \n",
    "    '''\n",
    "    x2  = x[1]\n",
    "    dx2 = dx[1]\n",
    "    p1  = p[0]\n",
    "    p2  = p[1]\n",
    "    dp1 = dp[0]\n",
    "    dp2 = dp[1]\n",
    "    hd  = dp1*x2+p1*dx2-2.0*mu*x2*dx2*p2-mu*x2**2*dp2+p2*dp2\n",
    "    return hd"
   ]
  },
  {
   "cell_type": "code",
   "execution_count": 5,
   "metadata": {},
   "outputs": [],
   "source": [
    "# The second order derivative of hfun and the definition of the flow\n",
    "#\n",
    "def d2hfun(t, x, dx, d2x, p, dp, d2p):\n",
    "    # d2h = dh_xx dx d2x + dh_xp dp d2x + dh_px dx d2p + dh_pp dp d2p\n",
    "    x2   = x[1]\n",
    "    dx2  = dx[1]\n",
    "    d2x2 = d2x[1]\n",
    "    p1   = p[0]\n",
    "    p2   = p[1]\n",
    "    dp1  = dp[0]\n",
    "    dp2  = dp[1]\n",
    "    d2p1 = d2p[0]\n",
    "    d2p2 = d2p[1]\n",
    "    hdd  =    dp1*d2x2 \\\n",
    "            + d2p1*dx2 \\\n",
    "            - 2.0*mu*d2x2*dx2*p2 - 2.0*mu*x2*dx2*d2p2 \\\n",
    "            - 2.0*mu*x2*d2x2*dp2 \\\n",
    "            + d2p2*dp2\n",
    "    return hdd\n",
    "\n",
    "hfun = nt.tools.tensorize(dhfun, d2hfun, tvars=(2, 3))(hfun)"
   ]
  },
  {
   "cell_type": "code",
   "execution_count": 6,
   "metadata": {},
   "outputs": [],
   "source": [
    "h    = ocp.Hamiltonian(hfun)   # The Hamiltonian object"
   ]
  },
  {
   "cell_type": "markdown",
   "metadata": {},
   "source": [
    "To define in the following the shooting function, one must integrate the Hamiltonian system defined by `h`. This is done by defining a [Flow](https://ct.gitlabpages.inria.fr/nutopy/api/ocp.html#nutopy.ocp.Flow) object:"
   ]
  },
  {
   "cell_type": "code",
   "execution_count": 7,
   "metadata": {},
   "outputs": [],
   "source": [
    "f    = ocp.Flow(h)             # The flow associated to the Hamiltonian object is \n",
    "                               # the exponential mapping with its derivative\n",
    "                               # that can be used to define the Jacobian of the \n",
    "                               # shooting function"
   ]
  },
  {
   "cell_type": "markdown",
   "metadata": {},
   "source": [
    "To compute the value of the Hamiltonan flow at time $t_f$ starting from time $t_0$ and initial conditions $(x_0,p_0)$, do the following:"
   ]
  },
  {
   "cell_type": "code",
   "execution_count": 8,
   "metadata": {},
   "outputs": [
    {
     "name": "stdout",
     "output_type": "stream",
     "text": [
      "[-0.96666508  0.05000781] [0.1        0.00127897]\n"
     ]
    }
   ],
   "source": [
    "p0 = np.array([0.1, 0.1])\n",
    "xf, pf = f(t0, x0, p0, tf)\n",
    "print(xf, pf)"
   ]
  },
  {
   "cell_type": "markdown",
   "metadata": {},
   "source": [
    "### case a: $c(x) = x - x_f$"
   ]
  },
  {
   "cell_type": "markdown",
   "metadata": {},
   "source": [
    "In this case, the shooting function is simply given by\n",
    "\n",
    "$$\n",
    "    S(p_0) = \\pi_x(z(t_f, t_0, x_0, p_0)) - x_f,\n",
    "$$\n",
    "\n",
    "where $x_f = (1, 0)$ and $z(t_f, t_0, x_0, p_0)$ is the value of the Hamiltonan flow at time $t_f$ starting from time $t_0$ and initial conditions $(x_0,p_0)$. "
   ]
  },
  {
   "cell_type": "markdown",
   "metadata": {},
   "source": [
    "<div class=\"alert alert-info\">\n",
    "\n",
    "**_Question 5:_**\n",
    "    \n",
    "Complete the code of `shoot` coding the shooting function.\n",
    "      \n",
    "</div>"
   ]
  },
  {
   "cell_type": "code",
   "execution_count": 9,
   "metadata": {},
   "outputs": [],
   "source": [
    "# ----------------------------\n",
    "# Answer 5 to complete here\n",
    "# ----------------------------\n",
    "#\n",
    "# Shooting function and its derivative\n",
    "#\n",
    "# Nota bene: use f, t0, x0, tf, xf_target_a\n",
    "#\n",
    "\n",
    "def shoot(p0):\n",
    "    '''\n",
    "        Shooting function\n",
    "        \n",
    "            s = S(p0)\n",
    "            \n",
    "        Inputs:\n",
    "        \n",
    "            p0 : initial co-state, array\n",
    "            \n",
    "        Outputs:\n",
    "        \n",
    "            s  : value of the shooting function, array\n",
    "    '''\n",
    "    xf, pf = f(t0, x0, p0, tf)\n",
    "    s = xf - xf_target_a \n",
    "    return s"
   ]
  },
  {
   "cell_type": "markdown",
   "metadata": {},
   "source": [
    "The Jacobian of $S$ at $p_0$ against the vector $\\delta p_0$ is given by:\n",
    "\n",
    "$$\n",
    "    S'(p_0) \\cdot \\delta p_0 = \\pi_x \\left(\\frac{\\partial z}{\\partial p_0}(t_f, t_0, x_0, p_0) \\cdot \\delta p_0 \\right) = \n",
    "    \\frac{\\partial x}{\\partial p_0}(t_f, t_0, x_0, p_0) \\cdot \\delta p_0.\n",
    "$$"
   ]
  },
  {
   "cell_type": "code",
   "execution_count": 10,
   "metadata": {},
   "outputs": [],
   "source": [
    "# Jacobian of the shooting function against dp0\n",
    "def dshoot(p0, dp0):\n",
    "    (xf, dxf), _ = f(t0, x0, (p0, dp0), tf)\n",
    "    ds = dxf\n",
    "    return ds\n",
    "\n",
    "# We tensorize the shooting function, otherwise, we would have to give the Jacobian \n",
    "# of S instead of the Jacobian against a vector, to the nle solver.\n",
    "shoot = nt.tools.tensorize(dshoot)(shoot)"
   ]
  },
  {
   "cell_type": "code",
   "execution_count": 11,
   "metadata": {
    "scrolled": false
   },
   "outputs": [
    {
     "name": "stdout",
     "output_type": "stream",
     "text": [
      "\n",
      "     Calls  |f(x)|                 |x|\n",
      " \n",
      "         1  1.967300768937284e+00  1.414213562373095e-01\n",
      "         2  1.719731572785058e+00  1.798534093044435e+01\n",
      "         3  1.410906422430162e+00  3.487107124079319e+01\n",
      "         4  1.991207495319201e+00  3.937341638076401e+01\n",
      "         5  7.277880985716003e-01  3.625515294040529e+01\n",
      "         6  4.725619938021236e-01  3.555941926121005e+01\n",
      "         7  3.166103150680820e-02  3.433969876028567e+01\n",
      "         8  2.245063172737618e-03  3.442461252396227e+01\n",
      "         9  6.943644107636048e-04  3.442864514091168e+01\n",
      "        10  1.078577109838329e-04  3.442751328490402e+01\n",
      "        11  2.201216851276362e-07  3.442730460220396e+01\n",
      "        12  2.084482725336880e-09  3.442730418046801e+01\n",
      "        13  1.938850712358454e-11  3.442730418446996e+01\n",
      "\n",
      " Results of the nle solver method:\n",
      "\n",
      " xsol    =  [31.89425568 12.96131661]\n",
      " f(xsol) =  [4.31077396e-12 1.89032123e-11]\n",
      " nfev    =  13\n",
      " njev    =  1\n",
      " status  =  1\n",
      " success =  True \n",
      "\n",
      " Successfully completed: relative error between two consecutive iterates is at most TolX.\n",
      "\n",
      "p0_sol = [31.89425568 12.96131661] \t shoot = [4.31077396e-12 1.89032123e-11]\n"
     ]
    }
   ],
   "source": [
    "# Resolution of the shooting function\n",
    "#\n",
    "p0_guess = np.array([0.1, 0.1])\n",
    "sol = nt.nle.solve(shoot, p0_guess, df=shoot); p0_sol = sol.x\n",
    "print('p0_sol =', p0_sol, '\\t shoot =', shoot(p0_sol))"
   ]
  },
  {
   "cell_type": "code",
   "execution_count": 12,
   "metadata": {},
   "outputs": [],
   "source": [
    "# Function to plot the solution\n",
    "def plotSolution(p0):\n",
    "\n",
    "    N      = 100\n",
    "    tspan  = list(np.linspace(t0, tf, N+1))\n",
    "    xf, pf = f(t0, x0, p0, tspan)\n",
    "    u      = ufun(pf)\n",
    "\n",
    "    fig = plt.figure()\n",
    "    ax  = fig.add_subplot(711); ax.plot(tspan, xf); ax.set_xlabel('t'); ax.set_ylabel('$x$'); ax.axhline(0, color='k')\n",
    "    ax  = fig.add_subplot(713); ax.plot(tspan, pf); ax.set_xlabel('t'); ax.set_ylabel('$p$'); ax.axhline(0, color='k')\n",
    "    ax  = fig.add_subplot(715); ax.plot(tspan,  u); ax.set_xlabel('t'); ax.set_ylabel('$u$'); ax.axhline(0, color='k')\n",
    "    \n",
    "    x1  = np.zeros(N+1)\n",
    "    x2  = np.zeros(N+1)\n",
    "    for i in range(0, N+1):\n",
    "        x1[i] = xf[i][0]\n",
    "        x2[i] = xf[i][1]\n",
    "    \n",
    "    ax  = fig.add_subplot(717); ax.plot(x1,  x2); ax.set_xlabel('x1'); ax.set_ylabel('$x2$'); ax.axhline(0, color='k')"
   ]
  },
  {
   "cell_type": "code",
   "execution_count": 13,
   "metadata": {},
   "outputs": [
    {
     "data": {
      "image/png": "[encoded data removed]",
      "text/plain": [
       "<Figure size 900x600 with 4 Axes>"
      ]
     },
     "metadata": {
      "needs_background": "light"
     },
     "output_type": "display_data"
    }
   ],
   "source": [
    "# Plot solution\n",
    "plotSolution(p0_sol)"
   ]
  },
  {
   "cell_type": "markdown",
   "metadata": {},
   "source": [
    "### case b: $c(x) = x_1 - 1$"
   ]
  },
  {
   "cell_type": "markdown",
   "metadata": {},
   "source": [
    "<div class=\"alert alert-info\">\n",
    "\n",
    "**_Question 6:_**\n",
    "    \n",
    "Give the transversality condition.\n",
    "      \n",
    "</div>"
   ]
  },
  {
   "cell_type": "markdown",
   "metadata": {},
   "source": [
    "**Answer 6:** \\\n",
    "transversality condition : \n",
    "$$\n",
    "p(t_f) = J_{c}^{T}(x(t_f)) [\\lambda;  \\beta] = (\\lambda, 0)\n",
    "$$"
   ]
  },
  {
   "cell_type": "markdown",
   "metadata": {},
   "source": [
    "<div class=\"alert alert-info\">\n",
    "\n",
    "**_Question 7:_**\n",
    "    \n",
    "Write the shooting function.\n",
    "      \n",
    "</div>"
   ]
  },
  {
   "cell_type": "markdown",
   "metadata": {},
   "source": [
    "**Answer 7:** \\\n",
    "shooting function\n",
    "$$\n",
    "s(p_0, \\lambda) = \n",
    "$$"
   ]
  },
  {
   "cell_type": "markdown",
   "metadata": {},
   "source": [
    "<div class=\"alert alert-info\">\n",
    "\n",
    "**_Question 8:_**\n",
    "    \n",
    "Solve the shooting equations.\n",
    "      \n",
    "</div>"
   ]
  },
  {
   "cell_type": "code",
   "execution_count": 14,
   "metadata": {},
   "outputs": [],
   "source": [
    "# ----------------------------\n",
    "# Answer 8 to complete here\n",
    "# ----------------------------\n",
    "#\n",
    "# Write the shooting function and its derivative\n",
    "# Write the call to the nle solver\n",
    "# Plot the solution\n",
    "#\n",
    "# Nota bene: use f, t0, x0, tf, xf_target_b\n",
    "#"
   ]
  }
 ],
 "metadata": {
  "kernelspec": {
   "display_name": "Python 3",
   "language": "python",
   "name": "python3"
  },
  "language_info": {
   "codemirror_mode": {
    "name": "ipython",
    "version": 3
   },
   "file_extension": ".py",
   "mimetype": "text/x-python",
   "name": "python",
   "nbconvert_exporter": "python",
   "pygments_lexer": "ipython3",
   "version": "3.7.10"
  }
 },
 "nbformat": 4,
 "nbformat_minor": 4
}
